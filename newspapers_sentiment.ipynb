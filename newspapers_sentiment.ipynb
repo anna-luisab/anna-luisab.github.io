{
  "cells": [
    {
      "cell_type": "markdown",
      "metadata": {
        "id": "view-in-github",
        "colab_type": "text"
      },
      "source": [
        "<a href=\"https://colab.research.google.com/github/anna-luisab/anna-luisab.github.io/blob/main/newspapers_sentiment.ipynb\" target=\"_parent\"><img src=\"https://colab.research.google.com/assets/colab-badge.svg\" alt=\"Open In Colab\"/></a>"
      ]
    },
    {
      "cell_type": "markdown",
      "metadata": {
        "id": "dy3bvl_nqdSM"
      },
      "source": [
        "# Homework and bake-off: Sentiment analysis"
      ]
    },
    {
      "cell_type": "code",
      "execution_count": 1,
      "metadata": {
        "colab": {
          "base_uri": "https://localhost:8080/"
        },
        "id": "GVEA04nRqdSP",
        "outputId": "4e9dd784-8a0c-44ff-87df-1a33b4a16716"
      },
      "outputs": [
        {
          "output_type": "stream",
          "name": "stdout",
          "text": [
            "Mounted at /content/gdrive\n",
            "/content/gdrive/MyDrive/cs224u\n"
          ]
        }
      ],
      "source": [
        "__author__ = \"Christopher Potts\"\n",
        "__version__ = \"CS224u, Stanford, Spring 2022\"\n",
        "\n",
        "import os\n",
        "\n",
        "if 'IS_GRADESCOPE_ENV' not in os.environ:\n",
        "    # This mounts your Google Drive to the Colab VM.\n",
        "    from google.colab import drive\n",
        "    drive.mount('/content/gdrive')\n",
        "\n",
        "    # TODO: Enter the foldername in your Drive where you have saved the unzipped\n",
        "    FOLDERNAME = 'MyDrive/cs224u'\n",
        "    assert FOLDERNAME is not None, \"[!] Enter the foldername.\"\n",
        "\n",
        "    # Now that we've mounted your Drive, this ensures that\n",
        "    # the Python interpreter of the Colab VM can load\n",
        "    # python files from within it.\n",
        "    import sys\n",
        "    sys.path.append('/content/gdrive/{}'.format(FOLDERNAME))\n",
        "\n",
        "    %cd /content/gdrive/$FOLDERNAME"
      ]
    },
    {
      "cell_type": "markdown",
      "metadata": {
        "id": "w32eioIXqdSQ"
      },
      "source": [
        "## Contents\n",
        "\n",
        "1. [Overview](#Overview)\n",
        "1. [Methodological note](#Methodological-note)\n",
        "1. [Set-up](#Set-up)\n",
        "1. [Train set](#Train-set)\n",
        "1. [Dev sets](#Dev-sets)\n",
        "1. [A softmax baseline](#A-softmax-baseline)\n",
        "1. [RNNClassifier wrapper](#RNNClassifier-wrapper)\n",
        "1. [Error analysis](#Error-analysis)\n",
        "1. [Homework questions](#Homework-questions)\n",
        "    1. [Token-level differences [1 point]](#Token-level-differences-[1-point])\n",
        "    1. [Training on some of the bakeoff data [1 point]](#Training-on-some-of-the-bakeoff-data-[1-point])\n",
        "    1. [A more powerful vector-averaging baseline [2 points]](#A-more-powerful-vector-averaging-baseline-[2-points])\n",
        "    1. [BERT encoding [2 points]](#BERT-encoding-[2-points])\n",
        "    1. [Your original system [3 points]](#Your-original-system-[3-points])\n",
        "1. [Bakeoff [1 point]](#Bakeoff-[1-point])\n",
        "1. [Submission Instruction](#Submission-Instruction)"
      ]
    },
    {
      "cell_type": "markdown",
      "metadata": {
        "id": "EYhHWZXGqdSQ"
      },
      "source": [
        "## Overview\n",
        "\n",
        "This homework and associated bakeoff are devoted to supervised sentiment analysis using the ternary (positive/negative/neutral) version of the Stanford Sentiment Treebank (SST-3) as well as a new dev/test dataset drawn from restaurant reviews. Our goal in introducing the new dataset is to push you to create a system that performs well in both the movie and restaurant domains.\n",
        "\n",
        "The homework questions ask you to implement some baseline system, and the bakeoff challenge is to define a system that does well at both the SST-3 test set and the new restaurant test set. Both are ternary tasks, and our central bakeoff score is the mean of the macro-FI scores for the two datasets. This assigns equal weight to all classes and datasets regardless of size.\n",
        "\n",
        "The SST-3 test set will be used for the bakeoff evaluation. This dataset is already publicly distributed, so we are counting on people not to cheat by developing their models on the test set. You must do all your development without using the test set at all, and then evaluate exactly once on the test set and turn in the results, with no further system tuning or additional runs. __Much of the scientific integrity of our field depends on people adhering to this honor code__. \n",
        "\n",
        "One of our goals for this homework and bakeoff is to encourage you to engage in __the basic development cycle for supervised models__, in which you\n",
        "\n",
        "1. Design a new system. We recommend starting with something simple.\n",
        "1. Use `sst.experiment` to evaluate your system, using random train/test splits initially.\n",
        "1. If you have time, compare your system with others using `sst.compare_models` or `utils.mcnemar`. (For discussion, see [this notebook section](sst_02_hand_built_features.ipynb#Statistical-comparison-of-classifier-models).)\n",
        "1. Return to step 1, or stop the cycle and conduct a more rigorous evaluation with hyperparameter tuning and assessment on the `dev` set.\n",
        "\n",
        "[Error analysis](#Error-analysis) is one of the most important methods for steadily improving a system, as it facilitates a kind of human-powered hill-climbing on your ultimate objective. Often, it takes a careful human analyst just a few examples to spot a major pattern that can lead to a beneficial change to the feature representations."
      ]
    },
    {
      "cell_type": "markdown",
      "metadata": {
        "id": "9NuA1Yk6qdSR"
      },
      "source": [
        "## Methodological note\n",
        "\n",
        "You don't have to use the experimental framework defined below (based on `sst`). The only constraint we need to place on your system is that it must have a `predict_one` method that can map directly from an example text to a prediction, and it must be able to make predictions without having any information beyond the text. (For example, it can't depend on knowing which task the text comes from.) See [the bakeoff section below](#Bakeoff-[1-point]) for examples of functions that conform to this specification."
      ]
    },
    {
      "cell_type": "markdown",
      "metadata": {
        "id": "IxNfilJOqdSS"
      },
      "source": [
        "## Set-up\n",
        "\n",
        "See [the first notebook in this unit](sst_01_overview.ipynb#Set-up) for set-up instructions."
      ]
    },
    {
      "cell_type": "code",
      "execution_count": 2,
      "metadata": {
        "id": "9k90PE89qdSS"
      },
      "outputs": [],
      "source": [
        "from collections import Counter\n",
        "import numpy as np\n",
        "import os\n",
        "import pandas as pd\n",
        "from sklearn.linear_model import LogisticRegression\n",
        "import torch.nn as nn\n",
        "\n",
        "from torch_rnn_classifier import TorchRNNClassifier\n",
        "from torch_tree_nn import TorchTreeNN\n",
        "import sst\n",
        "import utils"
      ]
    },
    {
      "cell_type": "code",
      "execution_count": 3,
      "metadata": {
        "id": "y8K47JvtqdSS"
      },
      "outputs": [],
      "source": [
        "SST_HOME = os.path.join('data', 'sentiment')"
      ]
    },
    {
      "cell_type": "markdown",
      "metadata": {
        "id": "WOdQomslqdSS"
      },
      "source": [
        "## Train set"
      ]
    },
    {
      "cell_type": "markdown",
      "metadata": {
        "id": "-Hx3KIwDqdST"
      },
      "source": [
        "Our primary train set is the SST-3 train set:"
      ]
    },
    {
      "cell_type": "code",
      "execution_count": 4,
      "metadata": {
        "id": "Ts2z7PQ9qdST"
      },
      "outputs": [],
      "source": [
        "sst_train = sst.train_reader(SST_HOME)"
      ]
    },
    {
      "cell_type": "code",
      "execution_count": 5,
      "metadata": {
        "colab": {
          "base_uri": "https://localhost:8080/"
        },
        "id": "0e9dZ7uBqdST",
        "outputId": "a57e0549-1b7d-4dfc-f13e-d8bc5903a54d"
      },
      "outputs": [
        {
          "output_type": "execute_result",
          "data": {
            "text/plain": [
              "8544"
            ]
          },
          "metadata": {},
          "execution_count": 5
        }
      ],
      "source": [
        "sst_train.shape[0]"
      ]
    },
    {
      "cell_type": "markdown",
      "metadata": {
        "id": "PfwzUvDjqdSU"
      },
      "source": [
        "This is the train set we will use for all the regular homework questions. You are welcome to bring in new datasets for your original system. You are also free to add `include_subtrees=True`. This is very likely to lead to better systems, but it substantially increases the overall size of the dataset (from 8,544 examples to 159,274), which will in turn substantially increase the time it takes to run experiments.\n",
        "\n",
        "See [this notebook](sst_01_overview.ipynb) for additional details of this dataset."
      ]
    },
    {
      "cell_type": "markdown",
      "metadata": {
        "id": "LRHcjozoqdSU"
      },
      "source": [
        "## Dev sets"
      ]
    },
    {
      "cell_type": "markdown",
      "metadata": {
        "id": "_aQzYYe5qdSU"
      },
      "source": [
        "We have two development set. SST3-dev consists of sentences from movie reviews, just like SST-3 train:"
      ]
    },
    {
      "cell_type": "code",
      "execution_count": 6,
      "metadata": {
        "id": "_4SXPZXaqdSV"
      },
      "outputs": [],
      "source": [
        "sst_dev = sst.dev_reader(SST_HOME)"
      ]
    },
    {
      "cell_type": "markdown",
      "metadata": {
        "id": "IeFbU1C7qdSV"
      },
      "source": [
        "Our new bakeoff dev set consists of sentences from restaurant reviews:"
      ]
    },
    {
      "cell_type": "code",
      "execution_count": 7,
      "metadata": {
        "id": "P3x7xw0vqdSV"
      },
      "outputs": [],
      "source": [
        "bakeoff_dev = sst.bakeoff_dev_reader(SST_HOME)"
      ]
    },
    {
      "cell_type": "code",
      "execution_count": 8,
      "metadata": {
        "colab": {
          "base_uri": "https://localhost:8080/"
        },
        "id": "QURI48WOqdSW",
        "outputId": "f7f94850-0ba0-40ad-c9a4-cb37c8b4e10a"
      },
      "outputs": [
        {
          "output_type": "execute_result",
          "data": {
            "text/plain": [
              "[{'example_id': 57,\n",
              "  'sentence': 'I would recommend that you make reservations in advance.',\n",
              "  'label': 'neutral',\n",
              "  'is_subtree': 0},\n",
              " {'example_id': 590,\n",
              "  'sentence': 'We were welcomed warmly.',\n",
              "  'label': 'positive',\n",
              "  'is_subtree': 0},\n",
              " {'example_id': 1968,\n",
              "  'sentence': 'We have been to Oceanaire twice in the last 6 weeks.',\n",
              "  'label': 'neutral',\n",
              "  'is_subtree': 0}]"
            ]
          },
          "metadata": {},
          "execution_count": 8
        }
      ],
      "source": [
        "bakeoff_dev.sample(3, random_state=1).to_dict(orient='records')"
      ]
    },
    {
      "cell_type": "markdown",
      "metadata": {
        "id": "HKwXmQNUqdSW"
      },
      "source": [
        "Here is the label distribution:"
      ]
    },
    {
      "cell_type": "code",
      "execution_count": 9,
      "metadata": {
        "colab": {
          "base_uri": "https://localhost:8080/"
        },
        "id": "x4-xzoa6qdSW",
        "outputId": "0993cf6c-6440-4413-e309-be32662d1f44"
      },
      "outputs": [
        {
          "output_type": "execute_result",
          "data": {
            "text/plain": [
              "neutral     1019\n",
              "positive     777\n",
              "negative     565\n",
              "Name: label, dtype: int64"
            ]
          },
          "metadata": {},
          "execution_count": 9
        }
      ],
      "source": [
        "bakeoff_dev.label.value_counts()"
      ]
    },
    {
      "cell_type": "markdown",
      "metadata": {
        "id": "1c4cQWbzqdSW"
      },
      "source": [
        "The label distribution for the corresponding test set is similar to this."
      ]
    },
    {
      "cell_type": "markdown",
      "metadata": {
        "id": "F-Lj7fSnqdSX"
      },
      "source": [
        "## A softmax baseline\n",
        "\n",
        "This example is here mainly as a reminder of how to use our experimental framework with linear models:"
      ]
    },
    {
      "cell_type": "code",
      "execution_count": 10,
      "metadata": {
        "id": "MYn-NBTLqdSX"
      },
      "outputs": [],
      "source": [
        "def unigrams_phi(text):\n",
        "    return Counter(text.split())"
      ]
    },
    {
      "cell_type": "markdown",
      "metadata": {
        "id": "pgaSREqBqdSX"
      },
      "source": [
        "Thin wrapper around `LogisticRegression` for the sake of `sst.experiment`:"
      ]
    },
    {
      "cell_type": "code",
      "execution_count": 11,
      "metadata": {
        "id": "zDokKTfOqdSX"
      },
      "outputs": [],
      "source": [
        "def fit_softmax_classifier(X, y):\n",
        "    mod = LogisticRegression(\n",
        "        fit_intercept=True,\n",
        "        solver='liblinear',\n",
        "        multi_class='ovr')\n",
        "    mod.fit(X, y)\n",
        "    return mod"
      ]
    },
    {
      "cell_type": "markdown",
      "metadata": {
        "id": "jeWwgsHfqdSX"
      },
      "source": [
        "The experimental run with some notes:"
      ]
    },
    {
      "cell_type": "code",
      "execution_count": 12,
      "metadata": {
        "colab": {
          "base_uri": "https://localhost:8080/"
        },
        "id": "mdB6GGBJqdSY",
        "outputId": "7b895cbb-fa8b-420b-99a9-81c974323ace"
      },
      "outputs": [
        {
          "output_type": "stream",
          "name": "stdout",
          "text": [
            "Assessment dataset 1\n",
            "              precision    recall  f1-score   support\n",
            "\n",
            "    negative      0.628     0.689     0.657       428\n",
            "     neutral      0.343     0.153     0.211       229\n",
            "    positive      0.629     0.750     0.684       444\n",
            "\n",
            "    accuracy                          0.602      1101\n",
            "   macro avg      0.533     0.531     0.518      1101\n",
            "weighted avg      0.569     0.602     0.575      1101\n",
            "\n",
            "Assessment dataset 2\n",
            "              precision    recall  f1-score   support\n",
            "\n",
            "    negative      0.272     0.690     0.390       565\n",
            "     neutral      0.429     0.113     0.179      1019\n",
            "    positive      0.409     0.346     0.375       777\n",
            "\n",
            "    accuracy                          0.328      2361\n",
            "   macro avg      0.370     0.383     0.315      2361\n",
            "weighted avg      0.385     0.328     0.294      2361\n",
            "\n",
            "Mean of macro-F1 scores: 0.416\n"
          ]
        }
      ],
      "source": [
        "softmax_experiment = sst.experiment(\n",
        "    sst.train_reader(SST_HOME),   # Train on any data you like except SST-3 test!\n",
        "    unigrams_phi,                 # Free to write your own!\n",
        "    fit_softmax_classifier,       # Free to write your own!\n",
        "    assess_dataframes=[sst_dev, bakeoff_dev]) # Free to change this during development!"
      ]
    },
    {
      "cell_type": "markdown",
      "metadata": {
        "id": "b_XEnrv7qdSY"
      },
      "source": [
        "`softmax_experiment` contains a lot of information that you can use for error analysis; see [this section below](#Error-analysis) for starter code."
      ]
    },
    {
      "cell_type": "markdown",
      "metadata": {
        "id": "g4qFs3mHqdSY"
      },
      "source": [
        "## RNNClassifier wrapper\n",
        "\n",
        "This section illustrates how to use `sst.experiment` with `TorchRNNClassifier`."
      ]
    },
    {
      "cell_type": "markdown",
      "metadata": {
        "id": "SGiKjXSSqdSY"
      },
      "source": [
        "To featurize examples for an RNN, we can just get the words in order, letting the model take care of mapping them into an embedding space."
      ]
    },
    {
      "cell_type": "code",
      "execution_count": 13,
      "metadata": {
        "id": "qboP-K4hqdSZ"
      },
      "outputs": [],
      "source": [
        "def rnn_phi(text):\n",
        "    return text.split()"
      ]
    },
    {
      "cell_type": "markdown",
      "metadata": {
        "id": "NwuvxvcNqdSa"
      },
      "source": [
        "The model wrapper gets the vocabulary using `sst.get_vocab`. If you want to use pretrained word representations in here, then you can have `fit_rnn_classifier` build that space too; see [this notebook section for details](sst_03_neural_networks.ipynb#Pretrained-embeddings). See also [torch_model_base.py](torch_model_base.py) for details on the many optimization parameters that `TorchRNNClassifier` accepts."
      ]
    },
    {
      "cell_type": "code",
      "execution_count": 14,
      "metadata": {
        "id": "MpGUWN6dqdSb"
      },
      "outputs": [],
      "source": [
        "def fit_rnn_classifier(X, y):\n",
        "    sst_glove_vocab = utils.get_vocab(X, mincount=2)\n",
        "    mod = TorchRNNClassifier(\n",
        "        sst_glove_vocab,\n",
        "        early_stopping=True)\n",
        "    mod.fit(X, y)\n",
        "    return mod"
      ]
    },
    {
      "cell_type": "code",
      "execution_count": 15,
      "metadata": {
        "colab": {
          "base_uri": "https://localhost:8080/"
        },
        "id": "n0Hqap2eqdSd",
        "outputId": "c7a7d8b2-1214-4fb4-99c8-6dc622e8ab1c"
      },
      "outputs": [
        {
          "output_type": "stream",
          "name": "stderr",
          "text": [
            "Stopping after epoch 47. Validation score did not improve by tol=1e-05 for more than 10 epochs. Final error is 1.2478066235780716"
          ]
        },
        {
          "output_type": "stream",
          "name": "stdout",
          "text": [
            "Assessment dataset 1\n",
            "              precision    recall  f1-score   support\n",
            "\n",
            "    negative      0.619     0.584     0.601       428\n",
            "     neutral      0.236     0.236     0.236       229\n",
            "    positive      0.632     0.667     0.649       444\n",
            "\n",
            "    accuracy                          0.545      1101\n",
            "   macro avg      0.496     0.496     0.495      1101\n",
            "weighted avg      0.545     0.545     0.544      1101\n",
            "\n",
            "Assessment dataset 2\n",
            "              precision    recall  f1-score   support\n",
            "\n",
            "    negative      0.282     0.605     0.385       565\n",
            "     neutral      0.456     0.182     0.260      1019\n",
            "    positive      0.404     0.386     0.395       777\n",
            "\n",
            "    accuracy                          0.350      2361\n",
            "   macro avg      0.381     0.391     0.346      2361\n",
            "weighted avg      0.397     0.350     0.334      2361\n",
            "\n",
            "Mean of macro-F1 scores: 0.421\n"
          ]
        }
      ],
      "source": [
        "rnn_experiment = sst.experiment(\n",
        "    sst.train_reader(SST_HOME),\n",
        "    rnn_phi,\n",
        "    fit_rnn_classifier,\n",
        "    vectorize=False,  # For deep learning, use `vectorize=False`.\n",
        "    assess_dataframes=[sst_dev, bakeoff_dev])"
      ]
    },
    {
      "cell_type": "markdown",
      "metadata": {
        "id": "379QQWJEqdSf"
      },
      "source": [
        "## Error analysis\n",
        "\n",
        "This section begins to build an error-analysis framework using the dicts returned by `sst.experiment`. These have the following structure:\n",
        "\n",
        "```\n",
        "'model': trained model\n",
        "'phi': the feature function used\n",
        "'train_dataset':\n",
        "   'X': feature matrix\n",
        "   'y': list of labels\n",
        "   'vectorizer': DictVectorizer,\n",
        "   'raw_examples': list of raw inputs, before featurizing   \n",
        "'assess_datasets': list of datasets, each with the same structure as the value of 'train_dataset'\n",
        "'predictions': list of lists of predictions on the assessment datasets\n",
        "'metric': `score_func.__name__`, where `score_func` is an `sst.experiment` argument\n",
        "'score': the `score_func` score on the each of the assessment dataasets\n",
        "```\n",
        "The following function just finds mistakes, and returns a `pd.DataFrame` for easy subsequent processing:"
      ]
    },
    {
      "cell_type": "code",
      "execution_count": 31,
      "metadata": {
        "id": "sEX2pyZRqdSf"
      },
      "outputs": [],
      "source": [
        "def find_errors(experiment):\n",
        "    \"\"\"Find mistaken predictions.\n",
        "\n",
        "    Parameters\n",
        "    ----------\n",
        "    experiment : dict\n",
        "        As returned by `sst.experiment`.\n",
        "\n",
        "    Returns\n",
        "    -------\n",
        "    pd.DataFrame\n",
        "\n",
        "    \"\"\"\n",
        "    dfs = []\n",
        "    for i, dataset in enumerate(experiment['assess_datasets']):\n",
        "        df = pd.DataFrame({\n",
        "            'raw_examples': dataset['raw_examples'],\n",
        "            'predicted': experiment['predictions'][i],\n",
        "            'gold': dataset['y']})\n",
        "        df['correct'] = df['predicted'] == df['gold']\n",
        "        df['dataset'] = i\n",
        "        dfs.append(df)\n",
        "    return pd.concat(dfs)"
      ]
    },
    {
      "cell_type": "code",
      "execution_count": 32,
      "metadata": {
        "id": "WHaX2m6sqdSg"
      },
      "outputs": [],
      "source": [
        "softmax_analysis = find_errors(softmax_experiment)"
      ]
    },
    {
      "cell_type": "code",
      "execution_count": 33,
      "metadata": {
        "id": "N3FTnxO_qdSg"
      },
      "outputs": [],
      "source": [
        "rnn_analysis = find_errors(rnn_experiment)"
      ]
    },
    {
      "cell_type": "markdown",
      "metadata": {
        "id": "mQzTfZPRqdSg"
      },
      "source": [
        "Here we merge the sotmax and RNN experiments into a single DataFrame:"
      ]
    },
    {
      "cell_type": "code",
      "execution_count": 34,
      "metadata": {
        "id": "Vesng4oQqdSg"
      },
      "outputs": [],
      "source": [
        "analysis = softmax_analysis.merge(\n",
        "    rnn_analysis, left_on='raw_examples', right_on='raw_examples')\n",
        "\n",
        "analysis = analysis.drop('gold_y', axis=1).rename(columns={'gold_x': 'gold'})"
      ]
    },
    {
      "cell_type": "markdown",
      "metadata": {
        "id": "eUX8VQgYqdSg"
      },
      "source": [
        "The following code collects a specific subset of examples; small modifications to its structure will give you different interesting subsets:"
      ]
    },
    {
      "cell_type": "code",
      "execution_count": 35,
      "metadata": {
        "id": "gqO1MvV3qdSh"
      },
      "outputs": [],
      "source": [
        "# Examples where the softmax model is correct, the RNN is not,\n",
        "# and the gold label is 'positive'\n",
        "\n",
        "error_group = analysis[\n",
        "    (analysis['predicted_x'] == analysis['gold'])\n",
        "    &\n",
        "    (analysis['predicted_y'] != analysis['gold'])\n",
        "    &\n",
        "    (analysis['gold'] == 'positive')\n",
        "]"
      ]
    },
    {
      "cell_type": "code",
      "execution_count": 36,
      "metadata": {
        "colab": {
          "base_uri": "https://localhost:8080/"
        },
        "id": "FQDCVldUqdSi",
        "outputId": "c857a683-f601-4483-c14b-f596b62ffaa5"
      },
      "outputs": [
        {
          "output_type": "execute_result",
          "data": {
            "text/plain": [
              "153"
            ]
          },
          "metadata": {},
          "execution_count": 36
        }
      ],
      "source": [
        "error_group.shape[0]"
      ]
    },
    {
      "cell_type": "code",
      "execution_count": 37,
      "metadata": {
        "colab": {
          "base_uri": "https://localhost:8080/"
        },
        "id": "DZAiLOR9qdSi",
        "outputId": "01e99663-28e2-4a3e-b3b8-b27be744ec8c"
      },
      "outputs": [
        {
          "output_type": "stream",
          "name": "stdout",
          "text": [
            "======================================================================\n",
            "The movie does a good job of laying out some of the major issues that we encounter as we journey through life .\n",
            "======================================================================\n",
            "Worth watching for Dong Jie 's performance -- and for the way it documents a culture in the throes of rapid change .\n",
            "======================================================================\n",
            "The wine choices are good though.\n",
            "======================================================================\n",
            "We love coming to Annapolis and dining at the Chart House.\n",
            "======================================================================\n",
            "By candidly detailing the politics involved in the creation of an extraordinary piece of music , -LRB- Jones -RRB- calls our attention to the inherent conflict between commerce and creativity .\n"
          ]
        }
      ],
      "source": [
        "for ex in error_group['raw_examples'].sample(5, random_state=1):\n",
        "    print(\"=\"*70)\n",
        "    print(ex)"
      ]
    },
    {
      "cell_type": "markdown",
      "metadata": {
        "id": "71nkyfUiqdSi"
      },
      "source": [
        "## Homework questions\n",
        "\n",
        "Please embed your homework responses in this notebook, and do not delete any cells from the notebook. (You are free to add as many cells as you like as part of your responses.)"
      ]
    },
    {
      "cell_type": "markdown",
      "metadata": {
        "id": "rcBWr9IEqdSi"
      },
      "source": [
        "### Token-level differences [1 point]"
      ]
    },
    {
      "cell_type": "markdown",
      "metadata": {
        "id": "Q0cJjS2mqdSi"
      },
      "source": [
        "We can begin to get a sense for how our two dev sets differ by considering the most frequent tokens from each. This question asks you to begin such analysis.\n",
        "\n",
        "Your task: write a function `get_token_counts` that, given a `pd.DataFrame` in the format of our datasets, tokenizes the example sentences based on whitespace and creates a count distribution over all of the tokens. The function should return a `pd.Series` sorted by frequency; if you create a count dictionary `d`, then `pd.Series(d).sort_values(ascending=False)` will give you what you need."
      ]
    },
    {
      "cell_type": "code",
      "execution_count": 38,
      "metadata": {
        "id": "MhGImI76qdSi"
      },
      "outputs": [],
      "source": [
        "def get_token_counts(df):\n",
        "    d = {}\n",
        "    sentences = df['sentence']\n",
        "    for sentence in sentences:\n",
        "        words = sentence.lower().split()\n",
        "        for word in words:\n",
        "            if word in d:\n",
        "                d[word]+=1\n",
        "            else:\n",
        "                d[word]=1\n",
        "    \n",
        "    return pd.Series(d).sort_values(ascending=False)\n"
      ]
    },
    {
      "cell_type": "code",
      "execution_count": 39,
      "metadata": {
        "id": "7fzVLAlnqdSj"
      },
      "outputs": [],
      "source": [
        "def test_get_token_counts(func):\n",
        "    df = pd.DataFrame([\n",
        "        {'sentence': 'a a b'},\n",
        "        {'sentence': 'a b a'},\n",
        "        {'sentence': 'a a a b.'}])\n",
        "    result = func(df)\n",
        "    for token, expected in (('a', 7), ('b', 2), ('b.', 1)):\n",
        "        actual = result.loc[token]\n",
        "        assert actual == expected, \\\n",
        "            \"For token {}, expected {}; got {}\".format(\n",
        "            token, expected, actual)"
      ]
    },
    {
      "cell_type": "code",
      "execution_count": 40,
      "metadata": {
        "id": "uGiIwsLkqdSj"
      },
      "outputs": [],
      "source": [
        "if 'IS_GRADESCOPE_ENV' not in os.environ:\n",
        "    test_get_token_counts(get_token_counts)"
      ]
    },
    {
      "cell_type": "markdown",
      "metadata": {
        "id": "jp_Vkox3qdSj"
      },
      "source": [
        "As you develop your original system, you might review these results. The two dev sets have different vocabularies and different low-level encoding details that are sure to impact model performance, especially when one considers that the train set is like `sst_dev` in all these respects. For additional discussion, see [this notebook section](sst_01_overview.ipynb#Tokenization)."
      ]
    },
    {
      "cell_type": "markdown",
      "metadata": {
        "id": "hGZtRWuZqdSj"
      },
      "source": [
        "### Training on some of the bakeoff data [1 point]"
      ]
    },
    {
      "cell_type": "markdown",
      "metadata": {
        "id": "l2oDEwNTqdSj"
      },
      "source": [
        "We have so far presented the bakeoff dev set as purely for evaluation. Since the train set consists entirely of SST-3 data, this makes the bakeoff split especially challenging. We might be able to reduce the challenging by adding some of the bakeoff dev set to the train set, keeping some of it for evaluation. The current question asks to begin explore the effects of such training.\n",
        "\n",
        "Your task: write a function `run_mixed_training_experiment`. The function should:\n",
        "\n",
        "1. Take as inputs (a) a model training wrapper like `fit_softmax_classifier` and (b) an integer `bakeoff_train_size` specifying the number of examples from `bakeoff_dev` that should be included in the train set.\n",
        "1. Split `bakeoff_dev` so that the first `bakeoff_train_size` examples are in the train set and the rest are used for evaluation.\n",
        "1. Use `sst.experiment` with the user-supplied model training wrapper, `unigram_phi` as defined above, and a train set that consists of SST-3 train and the train portion of `bakeoff_dev` as defined in step 2. The value of `assess_dataframes` should be a list consisting of the SST-3 dev set and the evaluation portion of `bakeoff_dev` as defined in step 2.\n",
        "1. Return the return value of `sst.experiment`.\n",
        "\n",
        "The function `test_run_mixed_training_experiment` will help you iterate to the required design."
      ]
    },
    {
      "cell_type": "code",
      "execution_count": 26,
      "metadata": {
        "id": "MpQvDyn-qdSj"
      },
      "outputs": [],
      "source": [
        "def run_mixed_training_experiment(wrapper_func, bakeoff_train_size):\n",
        "    #split bakeoff_dev into training and eval sets\n",
        "    bakeoff_dev_training = bakeoff_dev[:bakeoff_train_size]\n",
        "    bakeoff_dev_eval = bakeoff_dev[bakeoff_train_size:]\n",
        "    \n",
        "    #create mixed dataframe to feed into experiment\n",
        "    mixed_dev_train = pd.concat([sst_train,bakeoff_dev_training])\n",
        "    \n",
        "    return sst.experiment(mixed_dev_train,unigrams_phi,wrapper_func,assess_dataframes=[sst_dev,bakeoff_dev_eval])\n",
        "    \n",
        "\n"
      ]
    },
    {
      "cell_type": "code",
      "execution_count": 27,
      "metadata": {
        "id": "HTiZwipKqdSj"
      },
      "outputs": [],
      "source": [
        "def test_run_mixed_training_experiment(func):\n",
        "    bakeoff_train_size = 1000\n",
        "    experiment = func(fit_softmax_classifier, bakeoff_train_size)\n",
        "\n",
        "    assess_size = len(experiment['assess_datasets'])\n",
        "    assert len(experiment['assess_datasets']) == 2, \\\n",
        "        (\"The evaluation should be done on two datasets: \"\n",
        "         \"SST3 and part of the bakeoff dev set. \"\n",
        "         \"You have {} datasets.\".format(assess_size))\n",
        "\n",
        "    bakeoff_test_size = bakeoff_dev.shape[0] - bakeoff_train_size\n",
        "    expected_eval_examples = bakeoff_test_size + sst_dev.shape[0]\n",
        "    eval_examples = sum(len(d['raw_examples']) for d in experiment['assess_datasets'])\n",
        "    assert expected_eval_examples == eval_examples, \\\n",
        "        \"Expected {} evaluation examples; got {}\".format(\n",
        "        expected_eval_examples, eval_examples)"
      ]
    },
    {
      "cell_type": "code",
      "execution_count": 28,
      "metadata": {
        "colab": {
          "base_uri": "https://localhost:8080/"
        },
        "id": "tJu5CmljqdSj",
        "outputId": "569a9b4b-f23c-497e-ffe7-b8174983023b"
      },
      "outputs": [
        {
          "output_type": "stream",
          "name": "stdout",
          "text": [
            "Assessment dataset 1\n",
            "              precision    recall  f1-score   support\n",
            "\n",
            "    negative      0.627     0.671     0.648       428\n",
            "     neutral      0.319     0.162     0.214       229\n",
            "    positive      0.638     0.757     0.692       444\n",
            "\n",
            "    accuracy                          0.599      1101\n",
            "   macro avg      0.528     0.530     0.518      1101\n",
            "weighted avg      0.567     0.599     0.576      1101\n",
            "\n",
            "Assessment dataset 2\n",
            "              precision    recall  f1-score   support\n",
            "\n",
            "    negative      0.471     0.412     0.440       320\n",
            "     neutral      0.588     0.590     0.589       612\n",
            "    positive      0.503     0.548     0.525       429\n",
            "\n",
            "    accuracy                          0.535      1361\n",
            "   macro avg      0.521     0.517     0.518      1361\n",
            "weighted avg      0.534     0.535     0.534      1361\n",
            "\n",
            "Mean of macro-F1 scores: 0.518\n"
          ]
        }
      ],
      "source": [
        "if 'IS_GRADESCOPE_ENV' not in os.environ:\n",
        "    test_run_mixed_training_experiment(run_mixed_training_experiment)"
      ]
    },
    {
      "cell_type": "markdown",
      "metadata": {
        "id": "9EFDwBlKqdSk"
      },
      "source": [
        "### A more powerful vector-averaging baseline [2 points]\n",
        "\n",
        "In [Distributed representations as features](sst_03_neural_networks.ipynb#Distributed-representations-as-features), we looked at a baseline for the ternary SST-3 problem in which each example is modeled as the mean of its GloVe representations. A `LogisticRegression` model was used for prediction. A neural network might do better with these representations, since there might be complex relationships between the input feature dimensions that a linear classifier can't learn. To address this question, we want to get set up to run the experiment with a shallow neural classifier. \n",
        "\n",
        "Your task: write and submit a model wrapper function around `TorchShallowNeuralClassifier`. This function should implement hyperparameter search according to this specification:\n",
        "\n",
        "* Set `early_stopping=True` for all experiments.\n",
        "* Using 3-fold cross-validation, exhaustively explore this set of hyperparameter combinations:\n",
        "  * The hidden dimensionality at 50, 100, and 200.\n",
        "  * The hidden activation function as `nn.Tanh()` and `nn.ReLU()`.\n",
        "* For all other parameters to `TorchShallowNeuralClassifier`, use the defaults.\n",
        "\n",
        "See [this notebook section](sst_02_hand_built_features.ipynb#Hyperparameter-search) for examples. You are not required to run a full evaluation with this function using `sst.experiment`, but we assume you will want to.\n",
        "\n",
        "We're not evaluating the quality of your model. (We've specified the protocols completely, but there will still be variation in the results.) However, the primary goal of this question is to get you thinking more about this strong baseline feature representation scheme for SST-3, so we're sort of hoping you feel compelled to try out variations on your own."
      ]
    },
    {
      "cell_type": "code",
      "execution_count": 29,
      "metadata": {
        "id": "T672yCZiqdSk"
      },
      "outputs": [],
      "source": [
        "from torch_shallow_neural_classifier import TorchShallowNeuralClassifier\n",
        "\n",
        "def fit_shallow_neural_classifier_with_hyperparameter_search(X, y):\n",
        "    basemod = TorchShallowNeuralClassifier(early_stopping=True)\n",
        "    \n",
        "    #code drawn from sst_03_neural_networks.ipynb\n",
        "    param_grid = {\n",
        "        'hidden_dim': [50, 100, 200],\n",
        "        'hidden_activation': [nn.Tanh(), nn.ReLU()]}\n",
        "\n",
        "    bestmod = utils.fit_classifier_with_hyperparameter_search(\n",
        "        X, y, basemod, cv=3, param_grid=param_grid)\n",
        "\n",
        "    return bestmod\n",
        "\n",
        "# #testing on glove embeddings / code modeled from sst_03_neural_networks.ipynb RNN hyperparameter tuning experiment\n",
        "# test_results = sst.experiment(sst.train_reader(SST_HOME),glove_phi,\n",
        "#                                fit_shallow_neural_classifier_with_hyperparameter_search,\n",
        "#                                assess_dataframes=[sst_dev,bakeoff_dev], vectorize=False)\n",
        "\n"
      ]
    },
    {
      "cell_type": "markdown",
      "metadata": {
        "id": "soKLkdMeqdSk"
      },
      "source": [
        "### BERT encoding [2 points]"
      ]
    },
    {
      "cell_type": "markdown",
      "metadata": {
        "id": "iM-0cqGHqdSk"
      },
      "source": [
        "We might hypothesize that encoding our examples with BERT will yield improvements over the GloVe averaging method explored in the previous question, since BERT implements a much more complex and data-driven function for this kind of combination. This question asks you to begin exploring this general hypothesis.\n",
        "\n",
        "Your task: write a function `hf_cls_phi` that uses Hugging Face functionality to encode individual examples with BERT and returns the final output representation above the [CLS] token.\n",
        "\n",
        "You are not required to evaluate this feature function, but it is easy to do so with `sst.experiment` and `vectorize=False` (since your feature function directly encodes every example as a vector). Your code should also be a natural basis for even more powerful approaches – for example, it might be even better to pool all the output states rather than using just the first output state. Another option is [fine-tuning](finetuning.ipynb)."
      ]
    },
    {
      "cell_type": "code",
      "source": [
        "!pip3 install transformers"
      ],
      "metadata": {
        "colab": {
          "base_uri": "https://localhost:8080/"
        },
        "id": "BLDa4VIJtXEp",
        "outputId": "36b6888c-0b40-45e4-a608-4a69730d1f20"
      },
      "execution_count": 41,
      "outputs": [
        {
          "output_type": "stream",
          "name": "stdout",
          "text": [
            "Looking in indexes: https://pypi.org/simple, https://us-python.pkg.dev/colab-wheels/public/simple/\n",
            "Collecting transformers\n",
            "  Downloading transformers-4.24.0-py3-none-any.whl (5.5 MB)\n",
            "\u001b[K     |████████████████████████████████| 5.5 MB 20.9 MB/s \n",
            "\u001b[?25hCollecting tokenizers!=0.11.3,<0.14,>=0.11.1\n",
            "  Downloading tokenizers-0.13.2-cp37-cp37m-manylinux_2_17_x86_64.manylinux2014_x86_64.whl (7.6 MB)\n",
            "\u001b[K     |████████████████████████████████| 7.6 MB 51.5 MB/s \n",
            "\u001b[?25hRequirement already satisfied: regex!=2019.12.17 in /usr/local/lib/python3.7/dist-packages (from transformers) (2022.6.2)\n",
            "Requirement already satisfied: packaging>=20.0 in /usr/local/lib/python3.7/dist-packages (from transformers) (21.3)\n",
            "Requirement already satisfied: filelock in /usr/local/lib/python3.7/dist-packages (from transformers) (3.8.0)\n",
            "Requirement already satisfied: requests in /usr/local/lib/python3.7/dist-packages (from transformers) (2.23.0)\n",
            "Collecting huggingface-hub<1.0,>=0.10.0\n",
            "  Downloading huggingface_hub-0.11.0-py3-none-any.whl (182 kB)\n",
            "\u001b[K     |████████████████████████████████| 182 kB 57.6 MB/s \n",
            "\u001b[?25hRequirement already satisfied: numpy>=1.17 in /usr/local/lib/python3.7/dist-packages (from transformers) (1.21.6)\n",
            "Requirement already satisfied: pyyaml>=5.1 in /usr/local/lib/python3.7/dist-packages (from transformers) (6.0)\n",
            "Requirement already satisfied: importlib-metadata in /usr/local/lib/python3.7/dist-packages (from transformers) (4.13.0)\n",
            "Requirement already satisfied: tqdm>=4.27 in /usr/local/lib/python3.7/dist-packages (from transformers) (4.64.1)\n",
            "Requirement already satisfied: typing-extensions>=3.7.4.3 in /usr/local/lib/python3.7/dist-packages (from huggingface-hub<1.0,>=0.10.0->transformers) (4.1.1)\n",
            "Requirement already satisfied: pyparsing!=3.0.5,>=2.0.2 in /usr/local/lib/python3.7/dist-packages (from packaging>=20.0->transformers) (3.0.9)\n",
            "Requirement already satisfied: zipp>=0.5 in /usr/local/lib/python3.7/dist-packages (from importlib-metadata->transformers) (3.10.0)\n",
            "Requirement already satisfied: idna<3,>=2.5 in /usr/local/lib/python3.7/dist-packages (from requests->transformers) (2.10)\n",
            "Requirement already satisfied: chardet<4,>=3.0.2 in /usr/local/lib/python3.7/dist-packages (from requests->transformers) (3.0.4)\n",
            "Requirement already satisfied: urllib3!=1.25.0,!=1.25.1,<1.26,>=1.21.1 in /usr/local/lib/python3.7/dist-packages (from requests->transformers) (1.24.3)\n",
            "Requirement already satisfied: certifi>=2017.4.17 in /usr/local/lib/python3.7/dist-packages (from requests->transformers) (2022.9.24)\n",
            "Installing collected packages: tokenizers, huggingface-hub, transformers\n",
            "Successfully installed huggingface-hub-0.11.0 tokenizers-0.13.2 transformers-4.24.0\n"
          ]
        }
      ]
    },
    {
      "cell_type": "code",
      "execution_count": 42,
      "metadata": {
        "colab": {
          "base_uri": "https://localhost:8080/",
          "height": 216,
          "referenced_widgets": [
            "bf78c359894a4c2bace7828839ff37df",
            "c5bddfe8683b4f95adc009a8ae21fc57",
            "4c5bb0e3461a488196667c3ce0686b57",
            "6e115cd5ccf0498eb75f25727c690c7e",
            "4f5e9d8fb6004fb6b6c3595993562671",
            "713148eb200b49b195dfb113e39581cb",
            "bc7c8c62ca7445e8968f6b93247f35ef",
            "fa2ff2f9c1dc499db61e96db538747b0",
            "472a78eb1d7f45609220aefcb1d894a5",
            "7bb2460432ee42eb9b01556f89074f40",
            "2394eaee1cb544698fe39ec17eddfdfc",
            "7a45ea75706642dc841e3541f70bef45",
            "2e75b8865fb74b7494b2ae536ed207ad",
            "c27a4da4e14b4f4dbe8c6ab7cff6930e",
            "2c70cfc2b22c4c6f8b7d438ab2b72a9a",
            "176dc5ccee7b4325897e6667357b320f",
            "e5dd1c91c1f34785a8c1dad34e86f38c",
            "0711d36a082145ff8274107a8f2127f7",
            "de014bea9092438dbf0a32848719bb0e",
            "1812e812355c41e4baccf90ff7943c86",
            "7c1abfde07004f76acb16d4ce9408556",
            "cc3876aab1b7489c9414e9c6dfcde6e4",
            "d7b4fd0ac8b948cdb28ff763e32cab63",
            "ec07e3c2bb2a478e8476ed1f24acaf5e",
            "7c3d1db9ba64491e8f02600381fbb922",
            "cbfdb5bed5d54cc9b87f07ee1898e56e",
            "0c3a83691d904ed896110421cec869a8",
            "cdffcf8a3f34408fb7603c49910c6908",
            "1bf15f48a23141a3b8460e05e5bb6ffa",
            "81942735aa5d4f998de954f9e6267454",
            "478fe769bfbe4d8bb6b0d77a30a064bc",
            "6895c5de97d24054aaf3787d68eb99cd",
            "e0d8a17eb2734997a15020aca2f46d30",
            "30a894b767e94ee29fb9c1fa0da84bb3",
            "52b2d5b19d674ff4b6adf64bbac80f23",
            "f8f091e821ec44069048e30caee736be",
            "1a4858ab3a6f4e19b11396450c20a9dd",
            "6a21da33189a4d0abb216762c8ade86b",
            "e1bb0788e36043b2bf59fea2c281d322",
            "638c7a294d0842b4bb2cd21632a043fa",
            "e13734385b0943e9aba3bb3ce9a9ba21",
            "15bc660e663d4b3eab69622eaac5fa39",
            "a700a4a68f684ff692a965e1c1d52d5b",
            "b7da70bb194448efaeea5f0a3a87304d"
          ]
        },
        "id": "Zdf9ydgBqdSk",
        "outputId": "8b9a2395-c126-40f6-8caf-3654f496419d"
      },
      "outputs": [
        {
          "output_type": "display_data",
          "data": {
            "text/plain": [
              "Downloading:   0%|          | 0.00/570 [00:00<?, ?B/s]"
            ],
            "application/vnd.jupyter.widget-view+json": {
              "version_major": 2,
              "version_minor": 0,
              "model_id": "bf78c359894a4c2bace7828839ff37df"
            }
          },
          "metadata": {}
        },
        {
          "output_type": "display_data",
          "data": {
            "text/plain": [
              "Downloading:   0%|          | 0.00/440M [00:00<?, ?B/s]"
            ],
            "application/vnd.jupyter.widget-view+json": {
              "version_major": 2,
              "version_minor": 0,
              "model_id": "7a45ea75706642dc841e3541f70bef45"
            }
          },
          "metadata": {}
        },
        {
          "output_type": "stream",
          "name": "stderr",
          "text": [
            "Some weights of the model checkpoint at bert-base-uncased were not used when initializing BertModel: ['cls.predictions.transform.LayerNorm.weight', 'cls.predictions.decoder.weight', 'cls.seq_relationship.bias', 'cls.predictions.transform.LayerNorm.bias', 'cls.predictions.bias', 'cls.predictions.transform.dense.weight', 'cls.predictions.transform.dense.bias', 'cls.seq_relationship.weight']\n",
            "- This IS expected if you are initializing BertModel from the checkpoint of a model trained on another task or with another architecture (e.g. initializing a BertForSequenceClassification model from a BertForPreTraining model).\n",
            "- This IS NOT expected if you are initializing BertModel from the checkpoint of a model that you expect to be exactly identical (initializing a BertForSequenceClassification model from a BertForSequenceClassification model).\n"
          ]
        },
        {
          "output_type": "display_data",
          "data": {
            "text/plain": [
              "Downloading:   0%|          | 0.00/232k [00:00<?, ?B/s]"
            ],
            "application/vnd.jupyter.widget-view+json": {
              "version_major": 2,
              "version_minor": 0,
              "model_id": "d7b4fd0ac8b948cdb28ff763e32cab63"
            }
          },
          "metadata": {}
        },
        {
          "output_type": "display_data",
          "data": {
            "text/plain": [
              "Downloading:   0%|          | 0.00/28.0 [00:00<?, ?B/s]"
            ],
            "application/vnd.jupyter.widget-view+json": {
              "version_major": 2,
              "version_minor": 0,
              "model_id": "30a894b767e94ee29fb9c1fa0da84bb3"
            }
          },
          "metadata": {}
        }
      ],
      "source": [
        "from transformers import BertModel, BertTokenizer\n",
        "import vsm\n",
        "\n",
        "# Instantiate a Bert model and tokenizer based on `bert_weights_name`:\n",
        "bert_weights_name = 'bert-base-uncased'\n",
        "model = BertModel.from_pretrained(bert_weights_name)\n",
        "tokenizer = BertTokenizer.from_pretrained(bert_weights_name)\n",
        "\n",
        "\n",
        "def hf_cls_phi(text):\n",
        "    # Get the ids. `vsm.hf_encode` will help; be sure to\n",
        "    # set `add_special_tokens=True`.\n",
        "    \n",
        "    ids = vsm.hf_encode(text, tokenizer, add_special_tokens=True)\n",
        "    \n",
        "    \n",
        "    # Get the BERT representations. `vsm.hf_represent` will help:\n",
        "    reps = vsm.hf_represent(ids,model)\n",
        "    reps.shape\n",
        "\n",
        "\n",
        "    # Index into `reps` to get the representation above [CLS].\n",
        "    # The shape of `reps` should be (1, n, 768), where n is the\n",
        "    # number of tokens. You need the 0th element of the 2nd dim:\n",
        "    cls_rep = reps[0][0]\n",
        "\n",
        "\n",
        "    # These conversions should ensure that you can work with the\n",
        "    # representations flexibly. Feel free to change the variable\n",
        "    # name:\n",
        "    return cls_rep.cpu().numpy()"
      ]
    },
    {
      "cell_type": "code",
      "execution_count": 43,
      "metadata": {
        "id": "pVs2j77CqdSk"
      },
      "outputs": [],
      "source": [
        "def test_hf_cls_phi(func):\n",
        "    rep = func(\"Just testing!\")\n",
        "\n",
        "    expected_shape = (768,)\n",
        "    result_shape = rep.shape\n",
        "    assert rep.shape == (768,), \\\n",
        "        \"Expected shape {}; got {}\".format(\n",
        "        expected_shape, result_shape)\n",
        "\n",
        "    # String conversion to avoid precision errors:\n",
        "    expected_first_val = str(0.1709)\n",
        "    result_first_val = \"{0:.04f}\".format(rep[0])\n",
        "\n",
        "    assert expected_first_val == result_first_val, \\\n",
        "        (\"Unexpected representation values. Expected the \"\n",
        "        \"first value to be {}; got {}\".format(\n",
        "            expected_first_val, result_first_val))"
      ]
    },
    {
      "cell_type": "code",
      "execution_count": 44,
      "metadata": {
        "id": "wixbhfmeqdSk"
      },
      "outputs": [],
      "source": [
        "if 'IS_GRADESCOPE_ENV' not in os.environ:\n",
        "    test_hf_cls_phi(hf_cls_phi)"
      ]
    },
    {
      "cell_type": "markdown",
      "metadata": {
        "id": "hXufTsCXqdSl"
      },
      "source": [
        "Note: encoding all of SST-3 train (no subtrees) takes about 11 minutes on my 2015 iMac, CPU only (32GB)."
      ]
    },
    {
      "cell_type": "markdown",
      "metadata": {
        "id": "SrqFmlMVqdSl"
      },
      "source": [
        "### Your original system [3 points]\n",
        "\n",
        "Your task is to develop an original model for the SST-3 problem and our new bakeoff dataset. There are many options. If you spend more than a few hours on this homework problem, you should consider letting it grow into your final project! Here are some relatively manageable ideas that you might try:\n",
        "\n",
        "1. We didn't systematically evaluate the `bidirectional` option to the `TorchRNNClassifier`. Similarly, that model could be tweaked to allow multiple LSTM layers (at present there is only one), and you could try adding layers to the classifier portion of the model as well.\n",
        "\n",
        "1. We've already glimpsed the power of rich initial word representations, and later in the course we'll see that smart initialization usually leads to a performance gain in NLP, so you could perhaps achieve a winning entry with a simple model that starts in a great place.\n",
        "\n",
        "1. Our [practical introduction to contextual word representations](finetuning.ipynb) covers pretrained representations and interfaces that are likely to boost the performance of any system.\n",
        "\n",
        "We want to emphasize that this needs to be an __original__ system. It doesn't suffice to download code from the Web, retrain, and submit. You can build on others' code, but you have to do something new and meaningful with it. See the course website for additional guidance on how original systems will be evaluated.\n",
        "\n",
        "In the cell below, please provide a brief technical description of your original system, so that the teaching team can gain an understanding of what it does. This will help us to understand your code and analyze all the submissions to identify patterns and strategies.  We also ask that you report the best score your system got during development (your best average of macro-F1 scores), just to help us understand how systems performed overall.\n",
        "\n",
        "<font color='red'>Please review the descriptions in the following comment and follow the instructions.</font>"
      ]
    },
    {
      "cell_type": "code",
      "execution_count": 45,
      "metadata": {
        "colab": {
          "base_uri": "https://localhost:8080/",
          "height": 147
        },
        "id": "7G5mrnlTqdSl",
        "outputId": "a05e6de1-2d4b-49f2-ed02-7680b33eb7ce"
      },
      "outputs": [
        {
          "output_type": "error",
          "ename": "SyntaxError",
          "evalue": "ignored",
          "traceback": [
            "\u001b[0;36m  File \u001b[0;32m\"<ipython-input-45-0b997b1e7142>\"\u001b[0;36m, line \u001b[0;32m28\u001b[0m\n\u001b[0;31m    for neutral-tagged sentencs.'''\"\u001b[0m\n\u001b[0m                                    \n^\u001b[0m\n\u001b[0;31mSyntaxError\u001b[0m\u001b[0;31m:\u001b[0m EOL while scanning string literal\n"
          ]
        }
      ],
      "source": [
        "# PLEASE MAKE SURE TO INCLUDE THE FOLLOWING BETWEEN THE START AND STOP COMMENTS:\n",
        "#   1) Textual description of your system.\n",
        "#   2) The code for your original system.\n",
        "#   3) The score achieved by your system in place of MY_NUMBER.\n",
        "#        With no other changes to that line.\n",
        "#        You should report your score as a decimal value <=1.0\n",
        "# PLEASE MAKE SURE NOT TO DELETE OR EDIT THE START AND STOP COMMENTS\n",
        "\n",
        "# NOTE: MODULES, CODE AND DATASETS REQUIRED FOR YOUR ORIGINAL SYSTEM\n",
        "# SHOULD BE ADDED BELOW THE 'IS_GRADESCOPE_ENV' CHECK CONDITION. DOING\n",
        "# SO ABOVE THE CHECK MAY CAUSE THE AUTOGRADER TO FAIL.\n",
        "\n",
        "# START COMMENT: Enter your system description in this cell.\n",
        "\n",
        "'''''\"\"'From the hw questions and lecture videos, I was most interested in working\n",
        "    on finetuning BERT, as that seemed to consistently yield the best results.\n",
        "    From the HW questions, BERT embeddings performed better than GloVe.\n",
        "    I incorporated r1 dynasent into my training data, which significantly improved\n",
        "    the model's performance. I also incorporated subtrees for only neutral-labeled\n",
        "    sentences, as those seem to be the most challenging which made training a lot\n",
        "    slower but did marginally improve avg macro f1s. I drew on finetuning.ipynb \n",
        "    in the course repository using HuggingFace to instantiate a BERT model with\n",
        "    finetuned parameters. I played around with fit_hf_bert_classifier_with_hyperparameter_search,\n",
        "    and eventually settled on modifying eta, gradient_accumulation_steps, and hidden_dim according\n",
        "    to the best model returned by the function (I've now hardcoded those values, as running the \n",
        "    hyperparameter search every time was taking a lot of time and space). Overall, I think the\n",
        "    biggest improvement from my system came from incorporating dynasent data and subtrees \n",
        "    for neutral-tagged sentencs.'''\"\n",
        "# My peak score was: MY_NUMBER\n",
        "if 'IS_GRADESCOPE_ENV' not in os.environ:\n",
        "    import json\n",
        "    import torch\n",
        "\n",
        "    \n",
        "    #------------------------------\n",
        "    #loading baseline training data\n",
        "    SST_HOME = os.path.join('data', 'sentiment')\n",
        "    \n",
        "\n",
        "    sst_train = sst.train_reader(SST_HOME)\n",
        "    sst_train.shape[0]\n",
        "    \n",
        "    #neutral are the most challenging, so including subtrees for just 1000 neutral examples\n",
        "    sst_subtrees_train = sst.train_reader(SST_HOME, include_subtrees=True)\n",
        "    sst_subtrees_neu_train = sst_subtrees_train.loc[sst_subtrees_train['label'] == 'neutral'][:1000]\n",
        "\n",
        "    \n",
        "    sst_dev = sst.dev_reader(SST_HOME)\n",
        "    bakeoff_dev = sst.bakeoff_dev_reader(SST_HOME)\n",
        "    \n",
        "    \n",
        "    #loading dynasent data\n",
        "    # code taken from https://github.com/cgpotts/dynasent#quick-start\n",
        "    \n",
        "    def load_dataset(*src_filenames, labels=None):\n",
        "        data = []\n",
        "        for filename in src_filenames:\n",
        "            with open(filename) as f:\n",
        "                for line in f:\n",
        "                    d = json.loads(line)\n",
        "                    if labels is None or d['gold_label'] in labels:\n",
        "                        data.append(d)\n",
        "        return data\n",
        "    \n",
        "    r1_train_name = 'data/sentiment/dynasent_data/dynasent-v1.1-round01-yelp-train.jsonl'\n",
        "    \n",
        "    r2_train_name = 'data/sentiment/dynasent_data/dynasent-v1.1-round02-dynabench-train.jsonl'\n",
        "    \n",
        "    #sample 1000 from dynasent datasets\n",
        "    r1_dataset_neg = load_dataset(r1_train_name, labels=('negative', 'negative'))[:1000]\n",
        "    r1_dataset_neu = load_dataset(r1_train_name, labels=('neutral', 'neutral'))[:2000]\n",
        "    r1_dataset_pos = load_dataset(r1_train_name, labels=('positive', 'positive'))[:1000]\n",
        "    \n",
        "    \n",
        "    negatives_list = list(zip((d['text_id'], d['sentence'], d['gold_label'], 0) for d in r1_dataset_neg)) \n",
        "    df_neg_train = pd.DataFrame([pair[0] for pair in negatives_list], columns =['example_id', 'sentence', 'label', 'is_subtree'])\n",
        "    \n",
        "    positives_list = list(zip((d['text_id'], d['sentence'], d['gold_label'], 0) for d in r1_dataset_pos))\n",
        "    df_pos_train = pd.DataFrame([pair[0] for pair in positives_list], columns =['example_id', 'sentence', 'label', 'is_subtree'])\n",
        "    \n",
        "    neutrals_list = list(zip((d['text_id'], d['sentence'], d['gold_label'], 0) for d in r1_dataset_neu))\n",
        "    df_neu_train = pd.DataFrame([pair[0] for pair in neutrals_list], columns =['example_id', 'sentence', 'label', 'is_subtree'])\n",
        "    \n",
        "    dynasent_train_df = pd.concat([df_pos_train, df_neu_train, df_neg_train])\n",
        "    print(len(dynasent_train_df))\n",
        "    \n",
        "    #final dataframe we'll use to train our BERT model\n",
        "    combined_training_df = pd.concat([dynasent_train_df,sst_subtrees_neu_train,sst_train])\n",
        "    print(len(combined_training_df))\n",
        "    \n",
        "    #------------------------------\n",
        "    #initialize BERT model, code taken from finetuning.ipynb\n",
        "    \n",
        "    class HfBertClassifierModel(nn.Module):\n",
        "        def __init__(self, n_classes, weights_name='bert-base-cased'):\n",
        "            super().__init__()\n",
        "            self.n_classes = n_classes\n",
        "            self.weights_name = weights_name\n",
        "            self.bert = BertModel.from_pretrained(self.weights_name)\n",
        "            self.bert.train()\n",
        "            self.hidden_dim = self.bert.embeddings.word_embeddings.embedding_dim\n",
        "            # The only new parameters -- the classifier:\n",
        "            self.classifier_layer = nn.Linear(\n",
        "                self.hidden_dim, self.n_classes)\n",
        "\n",
        "        def forward(self, indices, mask):\n",
        "            reps = self.bert(\n",
        "                indices, attention_mask=mask)\n",
        "            return self.classifier_layer(reps.pooler_output)\n",
        "    \n",
        "    class HfBertClassifier(TorchShallowNeuralClassifier):\n",
        "        def __init__(self, weights_name, *args, **kwargs):\n",
        "            self.weights_name = weights_name\n",
        "            self.tokenizer = BertTokenizer.from_pretrained(self.weights_name)\n",
        "            super().__init__(*args, **kwargs)\n",
        "            self.params += ['weights_name']\n",
        "\n",
        "        def build_graph(self):\n",
        "            return HfBertClassifierModel(self.n_classes_, self.weights_name)\n",
        "\n",
        "        def build_dataset(self, X, y=None):\n",
        "            data = self.tokenizer.batch_encode_plus(\n",
        "                X,\n",
        "                max_length=None,\n",
        "                add_special_tokens=True,\n",
        "                padding='longest',\n",
        "                return_attention_mask=True)\n",
        "            indices = torch.tensor(data['input_ids'])\n",
        "            mask = torch.tensor(data['attention_mask'])\n",
        "            if y is None:\n",
        "                dataset = torch.utils.data.TensorDataset(indices, mask)\n",
        "            else:\n",
        "                self.classes_ = sorted(set(y))\n",
        "                self.n_classes_ = len(self.classes_)\n",
        "                class2index = dict(zip(self.classes_, range(self.n_classes_)))\n",
        "                y = [class2index[label] for label in y]\n",
        "                y = torch.tensor(y)\n",
        "                dataset = torch.utils.data.TensorDataset(indices, mask, y)\n",
        "            return dataset\n",
        "        \n",
        "    #------------------------------\n",
        "    #HBertClassifier experiment with finetuned \n",
        "        \n",
        "    def bert_fine_tune_phi(text):\n",
        "        return text\n",
        "    \n",
        "    def fit_hf_bert_classifier_with_hyperparameter_search(X, y):\n",
        "        basemod = HfBertClassifier(\n",
        "            weights_name='bert-base-cased',\n",
        "            batch_size=8,  # Small batches to avoid memory overload.\n",
        "            max_iter=1,  # We'll search based on 1 iteration for efficiency.\n",
        "            n_iter_no_change=5,   # Early-stopping params are for the\n",
        "            early_stopping=True)  # final evaluation.\n",
        "\n",
        "        param_grid = { #param_grid altered to reflect only the best results obtained from hyperparameter search\n",
        "            'gradient_accumulation_steps': [8],\n",
        "            'eta': [0.001],\n",
        "            'hidden_dim': [300]}\n",
        "\n",
        "        bestmod = utils.fit_classifier_with_hyperparameter_search(\n",
        "            X, y, basemod, cv=3, param_grid=param_grid)\n",
        "\n",
        "        return bestmod\n",
        "    \n",
        "    bert_classifier_xval = sst.experiment(\n",
        "            combined_training_df,\n",
        "            bert_fine_tune_phi,\n",
        "            fit_hf_bert_classifier_with_hyperparameter_search,\n",
        "            assess_dataframes=[sst_dev,bakeoff_dev],\n",
        "            vectorize=False)  # Pass in the BERT hidden state directly!\n",
        "    \n",
        "    optimized_bert_classifier = bert_classifier_xval['model']\n",
        "    \n",
        "    #test_df = sst.sentiment_reader(os.path.join(SST_HOME, \"sst3-test-labeled.csv\"))\n",
        "    \n",
        "    del bert_classifier_xval\n",
        "    \n",
        "    def fit_optimized_hf_bert_classifier(X, y):\n",
        "        optimized_bert_classifier.max_iter = 1000\n",
        "        optimized_bert_classifier.fit(X, y)\n",
        "        return optimized_bert_classifier\n",
        "    \n",
        "\n",
        "    #------------------------------\n",
        "    #evaluate\n",
        "    \n",
        "    hfbert_experiment = sst.experiment(combined_training_df,bert_fine_tune_phi,\n",
        "    fit_optimized_hf_bert_classifier,\n",
        "    assess_dataframes=[sst_dev,bakeoff_dev],\n",
        "    vectorize=False)  # Pass in the BERT hidden state directly!\n",
        "    \n",
        "    \n",
        "\n",
        "# STOP COMMENT: Please do not remove this comment."
      ]
    },
    {
      "cell_type": "markdown",
      "metadata": {
        "id": "pqrghWX3qdSl"
      },
      "source": [
        "## Bakeoff [1 point]\n",
        "\n",
        "As we said above, the bakeoff evaluation data is the official SST test-set release and a new test set derived from the same sources and labeling methods as for `bakeoff_dev`.\n",
        "\n",
        "For this bakeoff, you'll evaluate your original system from the above homework problem on these test sets. Our metric will be the mean of the macro-F1 values, which weights both datasets equally despite their differing sizes.\n",
        "\n",
        "The central requirement for your system is that you have define a `predict_one` method for it that maps a text (str) directly to a label prediction – one of 'positive', 'negative', 'neutral'. If you used `sst.experiment` with `vectorize=True`, then the following function (for `softmax_experiment`) will be easy to adapt – you probably just need to change the variable `softmax_experiment` to the variable for your experiment output."
      ]
    },
    {
      "cell_type": "code",
      "execution_count": null,
      "metadata": {
        "id": "9iDgpjyiqdSl"
      },
      "outputs": [],
      "source": [
        "def predict_one_softmax(text):\n",
        "    # Singleton list of feature dicts:\n",
        "    feats = [softmax_experiment['phi'](text)]\n",
        "    # Vectorize to get a feature matrix:\n",
        "    X = softmax_experiment['train_dataset']['vectorizer'].transform(feats)\n",
        "    # Standard sklearn `predict` step:\n",
        "    preds = softmax_experiment['model'].predict(X)\n",
        "    # Be sure to return the only member of the predictions,\n",
        "    # rather than the singleton list:\n",
        "    return preds[0]"
      ]
    },
    {
      "cell_type": "markdown",
      "metadata": {
        "id": "pCLsLQuHqdSm"
      },
      "source": [
        "If you used an RNN like the one we demoed above, then featurization is a bit more straightforward:"
      ]
    },
    {
      "cell_type": "code",
      "execution_count": null,
      "metadata": {
        "id": "1t4AhEehqdSm"
      },
      "outputs": [],
      "source": [
        "def predict_one_rnn(text):\n",
        "    # List of tokenized examples:\n",
        "    X = [hfbert_experiment['phi'](text)]\n",
        "    # Standard `predict` step on a list of lists of str:\n",
        "    preds = hfbert_experiment['model'].predict(X)\n",
        "    # Be sure to return the only member of the predictions,\n",
        "    # rather than the singleton list:\n",
        "    return preds[0]"
      ]
    },
    {
      "cell_type": "markdown",
      "metadata": {
        "id": "dRNCIRWgqdSm"
      },
      "source": [
        "The following function is used to create the bakeoff submission file. Its arguments are your `predict_one` function and an output filename (str)."
      ]
    },
    {
      "cell_type": "code",
      "execution_count": null,
      "metadata": {
        "id": "5NqZJn3WqdSm"
      },
      "outputs": [],
      "source": [
        "def create_bakeoff_submission(\n",
        "        predict_one_func,\n",
        "        output_filename='cs224u-sentiment-bakeoff-entry.csv'):\n",
        "\n",
        "    bakeoff_test = sst.bakeoff_test_reader(SST_HOME)\n",
        "    sst_test = sst.test_reader(SST_HOME)\n",
        "    bakeoff_test['dataset'] = 'bakeoff'\n",
        "    sst_test['dataset'] = 'sst3'\n",
        "    df = pd.concat((bakeoff_test, sst_test))\n",
        "\n",
        "    df['prediction'] = df['sentence'].apply(predict_one_func)\n",
        "\n",
        "    df.to_csv(output_filename, index=None)"
      ]
    },
    {
      "cell_type": "markdown",
      "metadata": {
        "id": "7nFfNK9DqdSm"
      },
      "source": [
        "Thus, for example, the following will create a bake-off entry based on `predict_one_softmax`:"
      ]
    },
    {
      "cell_type": "code",
      "execution_count": null,
      "metadata": {
        "id": "_lQQU8LMqdSm"
      },
      "outputs": [],
      "source": [
        "# This check ensure that the following code only runs on the local environment only.\n",
        "# The following call will not be run on the autograder environment.\n",
        "if 'IS_GRADESCOPE_ENV' not in os.environ:\n",
        "    pass\n",
        "    create_bakeoff_submission(predict_one_rnn)"
      ]
    },
    {
      "cell_type": "markdown",
      "metadata": {
        "id": "8TNif9t5qdSm"
      },
      "source": [
        "This creates a file `cs224u-sentiment-bakeoff-entry.csv` in the current directory. That file should be uploaded as-is. Please do not change its name.\n",
        "\n",
        "Only one upload per team is permitted, and you should do no tuning of your system based on what you see in our bakeoff prediction file – you should not study that file in anyway, beyond perhaps checking that it contains what you expected it to contain. The upload function will do some additional checking to ensure that your file is well-formed.\n",
        "\n",
        "People who enter will receive the additional homework point, and people whose systems achieve the top score will receive an additional 0.5 points. We will test the top-performing systems ourselves, and only systems for which we can reproduce the reported results will win the extra 0.5 points.\n",
        "\n",
        "Late entries will be accepted, but they cannot earn the extra 0.5 points."
      ]
    },
    {
      "cell_type": "markdown",
      "metadata": {
        "id": "2MaPCmprqdSm"
      },
      "source": [
        "## Submission Instruction\n",
        "\n",
        "Review and follow the [Homework and bake-off code: Formatting guide](hw_formatting_guide.ipynb).\n",
        "Please do not change the file name as described below.\n",
        "\n",
        "Submit the following files to Gradescope:\n",
        "\n",
        "- `hw_sentiment.ipynb` (this notebook)\n",
        "- `cs224u-sentiment-bakeoff-entry.csv` (bake-off output)\n"
      ]
    }
  ],
  "metadata": {
    "kernelspec": {
      "display_name": "Python 3 (ipykernel)",
      "language": "python",
      "name": "python3"
    },
    "language_info": {
      "codemirror_mode": {
        "name": "ipython",
        "version": 3
      },
      "file_extension": ".py",
      "mimetype": "text/x-python",
      "name": "python",
      "nbconvert_exporter": "python",
      "pygments_lexer": "ipython3",
      "version": "3.9.7"
    },
    "widgets": {
      "application/vnd.jupyter.widget-state+json": {
        "bf78c359894a4c2bace7828839ff37df": {
          "model_module": "@jupyter-widgets/controls",
          "model_name": "HBoxModel",
          "model_module_version": "1.5.0",
          "state": {
            "_dom_classes": [],
            "_model_module": "@jupyter-widgets/controls",
            "_model_module_version": "1.5.0",
            "_model_name": "HBoxModel",
            "_view_count": null,
            "_view_module": "@jupyter-widgets/controls",
            "_view_module_version": "1.5.0",
            "_view_name": "HBoxView",
            "box_style": "",
            "children": [
              "IPY_MODEL_c5bddfe8683b4f95adc009a8ae21fc57",
              "IPY_MODEL_4c5bb0e3461a488196667c3ce0686b57",
              "IPY_MODEL_6e115cd5ccf0498eb75f25727c690c7e"
            ],
            "layout": "IPY_MODEL_4f5e9d8fb6004fb6b6c3595993562671"
          }
        },
        "c5bddfe8683b4f95adc009a8ae21fc57": {
          "model_module": "@jupyter-widgets/controls",
          "model_name": "HTMLModel",
          "model_module_version": "1.5.0",
          "state": {
            "_dom_classes": [],
            "_model_module": "@jupyter-widgets/controls",
            "_model_module_version": "1.5.0",
            "_model_name": "HTMLModel",
            "_view_count": null,
            "_view_module": "@jupyter-widgets/controls",
            "_view_module_version": "1.5.0",
            "_view_name": "HTMLView",
            "description": "",
            "description_tooltip": null,
            "layout": "IPY_MODEL_713148eb200b49b195dfb113e39581cb",
            "placeholder": "​",
            "style": "IPY_MODEL_bc7c8c62ca7445e8968f6b93247f35ef",
            "value": "Downloading: 100%"
          }
        },
        "4c5bb0e3461a488196667c3ce0686b57": {
          "model_module": "@jupyter-widgets/controls",
          "model_name": "FloatProgressModel",
          "model_module_version": "1.5.0",
          "state": {
            "_dom_classes": [],
            "_model_module": "@jupyter-widgets/controls",
            "_model_module_version": "1.5.0",
            "_model_name": "FloatProgressModel",
            "_view_count": null,
            "_view_module": "@jupyter-widgets/controls",
            "_view_module_version": "1.5.0",
            "_view_name": "ProgressView",
            "bar_style": "success",
            "description": "",
            "description_tooltip": null,
            "layout": "IPY_MODEL_fa2ff2f9c1dc499db61e96db538747b0",
            "max": 570,
            "min": 0,
            "orientation": "horizontal",
            "style": "IPY_MODEL_472a78eb1d7f45609220aefcb1d894a5",
            "value": 570
          }
        },
        "6e115cd5ccf0498eb75f25727c690c7e": {
          "model_module": "@jupyter-widgets/controls",
          "model_name": "HTMLModel",
          "model_module_version": "1.5.0",
          "state": {
            "_dom_classes": [],
            "_model_module": "@jupyter-widgets/controls",
            "_model_module_version": "1.5.0",
            "_model_name": "HTMLModel",
            "_view_count": null,
            "_view_module": "@jupyter-widgets/controls",
            "_view_module_version": "1.5.0",
            "_view_name": "HTMLView",
            "description": "",
            "description_tooltip": null,
            "layout": "IPY_MODEL_7bb2460432ee42eb9b01556f89074f40",
            "placeholder": "​",
            "style": "IPY_MODEL_2394eaee1cb544698fe39ec17eddfdfc",
            "value": " 570/570 [00:00&lt;00:00, 5.23kB/s]"
          }
        },
        "4f5e9d8fb6004fb6b6c3595993562671": {
          "model_module": "@jupyter-widgets/base",
          "model_name": "LayoutModel",
          "model_module_version": "1.2.0",
          "state": {
            "_model_module": "@jupyter-widgets/base",
            "_model_module_version": "1.2.0",
            "_model_name": "LayoutModel",
            "_view_count": null,
            "_view_module": "@jupyter-widgets/base",
            "_view_module_version": "1.2.0",
            "_view_name": "LayoutView",
            "align_content": null,
            "align_items": null,
            "align_self": null,
            "border": null,
            "bottom": null,
            "display": null,
            "flex": null,
            "flex_flow": null,
            "grid_area": null,
            "grid_auto_columns": null,
            "grid_auto_flow": null,
            "grid_auto_rows": null,
            "grid_column": null,
            "grid_gap": null,
            "grid_row": null,
            "grid_template_areas": null,
            "grid_template_columns": null,
            "grid_template_rows": null,
            "height": null,
            "justify_content": null,
            "justify_items": null,
            "left": null,
            "margin": null,
            "max_height": null,
            "max_width": null,
            "min_height": null,
            "min_width": null,
            "object_fit": null,
            "object_position": null,
            "order": null,
            "overflow": null,
            "overflow_x": null,
            "overflow_y": null,
            "padding": null,
            "right": null,
            "top": null,
            "visibility": null,
            "width": null
          }
        },
        "713148eb200b49b195dfb113e39581cb": {
          "model_module": "@jupyter-widgets/base",
          "model_name": "LayoutModel",
          "model_module_version": "1.2.0",
          "state": {
            "_model_module": "@jupyter-widgets/base",
            "_model_module_version": "1.2.0",
            "_model_name": "LayoutModel",
            "_view_count": null,
            "_view_module": "@jupyter-widgets/base",
            "_view_module_version": "1.2.0",
            "_view_name": "LayoutView",
            "align_content": null,
            "align_items": null,
            "align_self": null,
            "border": null,
            "bottom": null,
            "display": null,
            "flex": null,
            "flex_flow": null,
            "grid_area": null,
            "grid_auto_columns": null,
            "grid_auto_flow": null,
            "grid_auto_rows": null,
            "grid_column": null,
            "grid_gap": null,
            "grid_row": null,
            "grid_template_areas": null,
            "grid_template_columns": null,
            "grid_template_rows": null,
            "height": null,
            "justify_content": null,
            "justify_items": null,
            "left": null,
            "margin": null,
            "max_height": null,
            "max_width": null,
            "min_height": null,
            "min_width": null,
            "object_fit": null,
            "object_position": null,
            "order": null,
            "overflow": null,
            "overflow_x": null,
            "overflow_y": null,
            "padding": null,
            "right": null,
            "top": null,
            "visibility": null,
            "width": null
          }
        },
        "bc7c8c62ca7445e8968f6b93247f35ef": {
          "model_module": "@jupyter-widgets/controls",
          "model_name": "DescriptionStyleModel",
          "model_module_version": "1.5.0",
          "state": {
            "_model_module": "@jupyter-widgets/controls",
            "_model_module_version": "1.5.0",
            "_model_name": "DescriptionStyleModel",
            "_view_count": null,
            "_view_module": "@jupyter-widgets/base",
            "_view_module_version": "1.2.0",
            "_view_name": "StyleView",
            "description_width": ""
          }
        },
        "fa2ff2f9c1dc499db61e96db538747b0": {
          "model_module": "@jupyter-widgets/base",
          "model_name": "LayoutModel",
          "model_module_version": "1.2.0",
          "state": {
            "_model_module": "@jupyter-widgets/base",
            "_model_module_version": "1.2.0",
            "_model_name": "LayoutModel",
            "_view_count": null,
            "_view_module": "@jupyter-widgets/base",
            "_view_module_version": "1.2.0",
            "_view_name": "LayoutView",
            "align_content": null,
            "align_items": null,
            "align_self": null,
            "border": null,
            "bottom": null,
            "display": null,
            "flex": null,
            "flex_flow": null,
            "grid_area": null,
            "grid_auto_columns": null,
            "grid_auto_flow": null,
            "grid_auto_rows": null,
            "grid_column": null,
            "grid_gap": null,
            "grid_row": null,
            "grid_template_areas": null,
            "grid_template_columns": null,
            "grid_template_rows": null,
            "height": null,
            "justify_content": null,
            "justify_items": null,
            "left": null,
            "margin": null,
            "max_height": null,
            "max_width": null,
            "min_height": null,
            "min_width": null,
            "object_fit": null,
            "object_position": null,
            "order": null,
            "overflow": null,
            "overflow_x": null,
            "overflow_y": null,
            "padding": null,
            "right": null,
            "top": null,
            "visibility": null,
            "width": null
          }
        },
        "472a78eb1d7f45609220aefcb1d894a5": {
          "model_module": "@jupyter-widgets/controls",
          "model_name": "ProgressStyleModel",
          "model_module_version": "1.5.0",
          "state": {
            "_model_module": "@jupyter-widgets/controls",
            "_model_module_version": "1.5.0",
            "_model_name": "ProgressStyleModel",
            "_view_count": null,
            "_view_module": "@jupyter-widgets/base",
            "_view_module_version": "1.2.0",
            "_view_name": "StyleView",
            "bar_color": null,
            "description_width": ""
          }
        },
        "7bb2460432ee42eb9b01556f89074f40": {
          "model_module": "@jupyter-widgets/base",
          "model_name": "LayoutModel",
          "model_module_version": "1.2.0",
          "state": {
            "_model_module": "@jupyter-widgets/base",
            "_model_module_version": "1.2.0",
            "_model_name": "LayoutModel",
            "_view_count": null,
            "_view_module": "@jupyter-widgets/base",
            "_view_module_version": "1.2.0",
            "_view_name": "LayoutView",
            "align_content": null,
            "align_items": null,
            "align_self": null,
            "border": null,
            "bottom": null,
            "display": null,
            "flex": null,
            "flex_flow": null,
            "grid_area": null,
            "grid_auto_columns": null,
            "grid_auto_flow": null,
            "grid_auto_rows": null,
            "grid_column": null,
            "grid_gap": null,
            "grid_row": null,
            "grid_template_areas": null,
            "grid_template_columns": null,
            "grid_template_rows": null,
            "height": null,
            "justify_content": null,
            "justify_items": null,
            "left": null,
            "margin": null,
            "max_height": null,
            "max_width": null,
            "min_height": null,
            "min_width": null,
            "object_fit": null,
            "object_position": null,
            "order": null,
            "overflow": null,
            "overflow_x": null,
            "overflow_y": null,
            "padding": null,
            "right": null,
            "top": null,
            "visibility": null,
            "width": null
          }
        },
        "2394eaee1cb544698fe39ec17eddfdfc": {
          "model_module": "@jupyter-widgets/controls",
          "model_name": "DescriptionStyleModel",
          "model_module_version": "1.5.0",
          "state": {
            "_model_module": "@jupyter-widgets/controls",
            "_model_module_version": "1.5.0",
            "_model_name": "DescriptionStyleModel",
            "_view_count": null,
            "_view_module": "@jupyter-widgets/base",
            "_view_module_version": "1.2.0",
            "_view_name": "StyleView",
            "description_width": ""
          }
        },
        "7a45ea75706642dc841e3541f70bef45": {
          "model_module": "@jupyter-widgets/controls",
          "model_name": "HBoxModel",
          "model_module_version": "1.5.0",
          "state": {
            "_dom_classes": [],
            "_model_module": "@jupyter-widgets/controls",
            "_model_module_version": "1.5.0",
            "_model_name": "HBoxModel",
            "_view_count": null,
            "_view_module": "@jupyter-widgets/controls",
            "_view_module_version": "1.5.0",
            "_view_name": "HBoxView",
            "box_style": "",
            "children": [
              "IPY_MODEL_2e75b8865fb74b7494b2ae536ed207ad",
              "IPY_MODEL_c27a4da4e14b4f4dbe8c6ab7cff6930e",
              "IPY_MODEL_2c70cfc2b22c4c6f8b7d438ab2b72a9a"
            ],
            "layout": "IPY_MODEL_176dc5ccee7b4325897e6667357b320f"
          }
        },
        "2e75b8865fb74b7494b2ae536ed207ad": {
          "model_module": "@jupyter-widgets/controls",
          "model_name": "HTMLModel",
          "model_module_version": "1.5.0",
          "state": {
            "_dom_classes": [],
            "_model_module": "@jupyter-widgets/controls",
            "_model_module_version": "1.5.0",
            "_model_name": "HTMLModel",
            "_view_count": null,
            "_view_module": "@jupyter-widgets/controls",
            "_view_module_version": "1.5.0",
            "_view_name": "HTMLView",
            "description": "",
            "description_tooltip": null,
            "layout": "IPY_MODEL_e5dd1c91c1f34785a8c1dad34e86f38c",
            "placeholder": "​",
            "style": "IPY_MODEL_0711d36a082145ff8274107a8f2127f7",
            "value": "Downloading: 100%"
          }
        },
        "c27a4da4e14b4f4dbe8c6ab7cff6930e": {
          "model_module": "@jupyter-widgets/controls",
          "model_name": "FloatProgressModel",
          "model_module_version": "1.5.0",
          "state": {
            "_dom_classes": [],
            "_model_module": "@jupyter-widgets/controls",
            "_model_module_version": "1.5.0",
            "_model_name": "FloatProgressModel",
            "_view_count": null,
            "_view_module": "@jupyter-widgets/controls",
            "_view_module_version": "1.5.0",
            "_view_name": "ProgressView",
            "bar_style": "success",
            "description": "",
            "description_tooltip": null,
            "layout": "IPY_MODEL_de014bea9092438dbf0a32848719bb0e",
            "max": 440473133,
            "min": 0,
            "orientation": "horizontal",
            "style": "IPY_MODEL_1812e812355c41e4baccf90ff7943c86",
            "value": 440473133
          }
        },
        "2c70cfc2b22c4c6f8b7d438ab2b72a9a": {
          "model_module": "@jupyter-widgets/controls",
          "model_name": "HTMLModel",
          "model_module_version": "1.5.0",
          "state": {
            "_dom_classes": [],
            "_model_module": "@jupyter-widgets/controls",
            "_model_module_version": "1.5.0",
            "_model_name": "HTMLModel",
            "_view_count": null,
            "_view_module": "@jupyter-widgets/controls",
            "_view_module_version": "1.5.0",
            "_view_name": "HTMLView",
            "description": "",
            "description_tooltip": null,
            "layout": "IPY_MODEL_7c1abfde07004f76acb16d4ce9408556",
            "placeholder": "​",
            "style": "IPY_MODEL_cc3876aab1b7489c9414e9c6dfcde6e4",
            "value": " 440M/440M [00:19&lt;00:00, 58.1MB/s]"
          }
        },
        "176dc5ccee7b4325897e6667357b320f": {
          "model_module": "@jupyter-widgets/base",
          "model_name": "LayoutModel",
          "model_module_version": "1.2.0",
          "state": {
            "_model_module": "@jupyter-widgets/base",
            "_model_module_version": "1.2.0",
            "_model_name": "LayoutModel",
            "_view_count": null,
            "_view_module": "@jupyter-widgets/base",
            "_view_module_version": "1.2.0",
            "_view_name": "LayoutView",
            "align_content": null,
            "align_items": null,
            "align_self": null,
            "border": null,
            "bottom": null,
            "display": null,
            "flex": null,
            "flex_flow": null,
            "grid_area": null,
            "grid_auto_columns": null,
            "grid_auto_flow": null,
            "grid_auto_rows": null,
            "grid_column": null,
            "grid_gap": null,
            "grid_row": null,
            "grid_template_areas": null,
            "grid_template_columns": null,
            "grid_template_rows": null,
            "height": null,
            "justify_content": null,
            "justify_items": null,
            "left": null,
            "margin": null,
            "max_height": null,
            "max_width": null,
            "min_height": null,
            "min_width": null,
            "object_fit": null,
            "object_position": null,
            "order": null,
            "overflow": null,
            "overflow_x": null,
            "overflow_y": null,
            "padding": null,
            "right": null,
            "top": null,
            "visibility": null,
            "width": null
          }
        },
        "e5dd1c91c1f34785a8c1dad34e86f38c": {
          "model_module": "@jupyter-widgets/base",
          "model_name": "LayoutModel",
          "model_module_version": "1.2.0",
          "state": {
            "_model_module": "@jupyter-widgets/base",
            "_model_module_version": "1.2.0",
            "_model_name": "LayoutModel",
            "_view_count": null,
            "_view_module": "@jupyter-widgets/base",
            "_view_module_version": "1.2.0",
            "_view_name": "LayoutView",
            "align_content": null,
            "align_items": null,
            "align_self": null,
            "border": null,
            "bottom": null,
            "display": null,
            "flex": null,
            "flex_flow": null,
            "grid_area": null,
            "grid_auto_columns": null,
            "grid_auto_flow": null,
            "grid_auto_rows": null,
            "grid_column": null,
            "grid_gap": null,
            "grid_row": null,
            "grid_template_areas": null,
            "grid_template_columns": null,
            "grid_template_rows": null,
            "height": null,
            "justify_content": null,
            "justify_items": null,
            "left": null,
            "margin": null,
            "max_height": null,
            "max_width": null,
            "min_height": null,
            "min_width": null,
            "object_fit": null,
            "object_position": null,
            "order": null,
            "overflow": null,
            "overflow_x": null,
            "overflow_y": null,
            "padding": null,
            "right": null,
            "top": null,
            "visibility": null,
            "width": null
          }
        },
        "0711d36a082145ff8274107a8f2127f7": {
          "model_module": "@jupyter-widgets/controls",
          "model_name": "DescriptionStyleModel",
          "model_module_version": "1.5.0",
          "state": {
            "_model_module": "@jupyter-widgets/controls",
            "_model_module_version": "1.5.0",
            "_model_name": "DescriptionStyleModel",
            "_view_count": null,
            "_view_module": "@jupyter-widgets/base",
            "_view_module_version": "1.2.0",
            "_view_name": "StyleView",
            "description_width": ""
          }
        },
        "de014bea9092438dbf0a32848719bb0e": {
          "model_module": "@jupyter-widgets/base",
          "model_name": "LayoutModel",
          "model_module_version": "1.2.0",
          "state": {
            "_model_module": "@jupyter-widgets/base",
            "_model_module_version": "1.2.0",
            "_model_name": "LayoutModel",
            "_view_count": null,
            "_view_module": "@jupyter-widgets/base",
            "_view_module_version": "1.2.0",
            "_view_name": "LayoutView",
            "align_content": null,
            "align_items": null,
            "align_self": null,
            "border": null,
            "bottom": null,
            "display": null,
            "flex": null,
            "flex_flow": null,
            "grid_area": null,
            "grid_auto_columns": null,
            "grid_auto_flow": null,
            "grid_auto_rows": null,
            "grid_column": null,
            "grid_gap": null,
            "grid_row": null,
            "grid_template_areas": null,
            "grid_template_columns": null,
            "grid_template_rows": null,
            "height": null,
            "justify_content": null,
            "justify_items": null,
            "left": null,
            "margin": null,
            "max_height": null,
            "max_width": null,
            "min_height": null,
            "min_width": null,
            "object_fit": null,
            "object_position": null,
            "order": null,
            "overflow": null,
            "overflow_x": null,
            "overflow_y": null,
            "padding": null,
            "right": null,
            "top": null,
            "visibility": null,
            "width": null
          }
        },
        "1812e812355c41e4baccf90ff7943c86": {
          "model_module": "@jupyter-widgets/controls",
          "model_name": "ProgressStyleModel",
          "model_module_version": "1.5.0",
          "state": {
            "_model_module": "@jupyter-widgets/controls",
            "_model_module_version": "1.5.0",
            "_model_name": "ProgressStyleModel",
            "_view_count": null,
            "_view_module": "@jupyter-widgets/base",
            "_view_module_version": "1.2.0",
            "_view_name": "StyleView",
            "bar_color": null,
            "description_width": ""
          }
        },
        "7c1abfde07004f76acb16d4ce9408556": {
          "model_module": "@jupyter-widgets/base",
          "model_name": "LayoutModel",
          "model_module_version": "1.2.0",
          "state": {
            "_model_module": "@jupyter-widgets/base",
            "_model_module_version": "1.2.0",
            "_model_name": "LayoutModel",
            "_view_count": null,
            "_view_module": "@jupyter-widgets/base",
            "_view_module_version": "1.2.0",
            "_view_name": "LayoutView",
            "align_content": null,
            "align_items": null,
            "align_self": null,
            "border": null,
            "bottom": null,
            "display": null,
            "flex": null,
            "flex_flow": null,
            "grid_area": null,
            "grid_auto_columns": null,
            "grid_auto_flow": null,
            "grid_auto_rows": null,
            "grid_column": null,
            "grid_gap": null,
            "grid_row": null,
            "grid_template_areas": null,
            "grid_template_columns": null,
            "grid_template_rows": null,
            "height": null,
            "justify_content": null,
            "justify_items": null,
            "left": null,
            "margin": null,
            "max_height": null,
            "max_width": null,
            "min_height": null,
            "min_width": null,
            "object_fit": null,
            "object_position": null,
            "order": null,
            "overflow": null,
            "overflow_x": null,
            "overflow_y": null,
            "padding": null,
            "right": null,
            "top": null,
            "visibility": null,
            "width": null
          }
        },
        "cc3876aab1b7489c9414e9c6dfcde6e4": {
          "model_module": "@jupyter-widgets/controls",
          "model_name": "DescriptionStyleModel",
          "model_module_version": "1.5.0",
          "state": {
            "_model_module": "@jupyter-widgets/controls",
            "_model_module_version": "1.5.0",
            "_model_name": "DescriptionStyleModel",
            "_view_count": null,
            "_view_module": "@jupyter-widgets/base",
            "_view_module_version": "1.2.0",
            "_view_name": "StyleView",
            "description_width": ""
          }
        },
        "d7b4fd0ac8b948cdb28ff763e32cab63": {
          "model_module": "@jupyter-widgets/controls",
          "model_name": "HBoxModel",
          "model_module_version": "1.5.0",
          "state": {
            "_dom_classes": [],
            "_model_module": "@jupyter-widgets/controls",
            "_model_module_version": "1.5.0",
            "_model_name": "HBoxModel",
            "_view_count": null,
            "_view_module": "@jupyter-widgets/controls",
            "_view_module_version": "1.5.0",
            "_view_name": "HBoxView",
            "box_style": "",
            "children": [
              "IPY_MODEL_ec07e3c2bb2a478e8476ed1f24acaf5e",
              "IPY_MODEL_7c3d1db9ba64491e8f02600381fbb922",
              "IPY_MODEL_cbfdb5bed5d54cc9b87f07ee1898e56e"
            ],
            "layout": "IPY_MODEL_0c3a83691d904ed896110421cec869a8"
          }
        },
        "ec07e3c2bb2a478e8476ed1f24acaf5e": {
          "model_module": "@jupyter-widgets/controls",
          "model_name": "HTMLModel",
          "model_module_version": "1.5.0",
          "state": {
            "_dom_classes": [],
            "_model_module": "@jupyter-widgets/controls",
            "_model_module_version": "1.5.0",
            "_model_name": "HTMLModel",
            "_view_count": null,
            "_view_module": "@jupyter-widgets/controls",
            "_view_module_version": "1.5.0",
            "_view_name": "HTMLView",
            "description": "",
            "description_tooltip": null,
            "layout": "IPY_MODEL_cdffcf8a3f34408fb7603c49910c6908",
            "placeholder": "​",
            "style": "IPY_MODEL_1bf15f48a23141a3b8460e05e5bb6ffa",
            "value": "Downloading: 100%"
          }
        },
        "7c3d1db9ba64491e8f02600381fbb922": {
          "model_module": "@jupyter-widgets/controls",
          "model_name": "FloatProgressModel",
          "model_module_version": "1.5.0",
          "state": {
            "_dom_classes": [],
            "_model_module": "@jupyter-widgets/controls",
            "_model_module_version": "1.5.0",
            "_model_name": "FloatProgressModel",
            "_view_count": null,
            "_view_module": "@jupyter-widgets/controls",
            "_view_module_version": "1.5.0",
            "_view_name": "ProgressView",
            "bar_style": "success",
            "description": "",
            "description_tooltip": null,
            "layout": "IPY_MODEL_81942735aa5d4f998de954f9e6267454",
            "max": 231508,
            "min": 0,
            "orientation": "horizontal",
            "style": "IPY_MODEL_478fe769bfbe4d8bb6b0d77a30a064bc",
            "value": 231508
          }
        },
        "cbfdb5bed5d54cc9b87f07ee1898e56e": {
          "model_module": "@jupyter-widgets/controls",
          "model_name": "HTMLModel",
          "model_module_version": "1.5.0",
          "state": {
            "_dom_classes": [],
            "_model_module": "@jupyter-widgets/controls",
            "_model_module_version": "1.5.0",
            "_model_name": "HTMLModel",
            "_view_count": null,
            "_view_module": "@jupyter-widgets/controls",
            "_view_module_version": "1.5.0",
            "_view_name": "HTMLView",
            "description": "",
            "description_tooltip": null,
            "layout": "IPY_MODEL_6895c5de97d24054aaf3787d68eb99cd",
            "placeholder": "​",
            "style": "IPY_MODEL_e0d8a17eb2734997a15020aca2f46d30",
            "value": " 232k/232k [00:00&lt;00:00, 5.68MB/s]"
          }
        },
        "0c3a83691d904ed896110421cec869a8": {
          "model_module": "@jupyter-widgets/base",
          "model_name": "LayoutModel",
          "model_module_version": "1.2.0",
          "state": {
            "_model_module": "@jupyter-widgets/base",
            "_model_module_version": "1.2.0",
            "_model_name": "LayoutModel",
            "_view_count": null,
            "_view_module": "@jupyter-widgets/base",
            "_view_module_version": "1.2.0",
            "_view_name": "LayoutView",
            "align_content": null,
            "align_items": null,
            "align_self": null,
            "border": null,
            "bottom": null,
            "display": null,
            "flex": null,
            "flex_flow": null,
            "grid_area": null,
            "grid_auto_columns": null,
            "grid_auto_flow": null,
            "grid_auto_rows": null,
            "grid_column": null,
            "grid_gap": null,
            "grid_row": null,
            "grid_template_areas": null,
            "grid_template_columns": null,
            "grid_template_rows": null,
            "height": null,
            "justify_content": null,
            "justify_items": null,
            "left": null,
            "margin": null,
            "max_height": null,
            "max_width": null,
            "min_height": null,
            "min_width": null,
            "object_fit": null,
            "object_position": null,
            "order": null,
            "overflow": null,
            "overflow_x": null,
            "overflow_y": null,
            "padding": null,
            "right": null,
            "top": null,
            "visibility": null,
            "width": null
          }
        },
        "cdffcf8a3f34408fb7603c49910c6908": {
          "model_module": "@jupyter-widgets/base",
          "model_name": "LayoutModel",
          "model_module_version": "1.2.0",
          "state": {
            "_model_module": "@jupyter-widgets/base",
            "_model_module_version": "1.2.0",
            "_model_name": "LayoutModel",
            "_view_count": null,
            "_view_module": "@jupyter-widgets/base",
            "_view_module_version": "1.2.0",
            "_view_name": "LayoutView",
            "align_content": null,
            "align_items": null,
            "align_self": null,
            "border": null,
            "bottom": null,
            "display": null,
            "flex": null,
            "flex_flow": null,
            "grid_area": null,
            "grid_auto_columns": null,
            "grid_auto_flow": null,
            "grid_auto_rows": null,
            "grid_column": null,
            "grid_gap": null,
            "grid_row": null,
            "grid_template_areas": null,
            "grid_template_columns": null,
            "grid_template_rows": null,
            "height": null,
            "justify_content": null,
            "justify_items": null,
            "left": null,
            "margin": null,
            "max_height": null,
            "max_width": null,
            "min_height": null,
            "min_width": null,
            "object_fit": null,
            "object_position": null,
            "order": null,
            "overflow": null,
            "overflow_x": null,
            "overflow_y": null,
            "padding": null,
            "right": null,
            "top": null,
            "visibility": null,
            "width": null
          }
        },
        "1bf15f48a23141a3b8460e05e5bb6ffa": {
          "model_module": "@jupyter-widgets/controls",
          "model_name": "DescriptionStyleModel",
          "model_module_version": "1.5.0",
          "state": {
            "_model_module": "@jupyter-widgets/controls",
            "_model_module_version": "1.5.0",
            "_model_name": "DescriptionStyleModel",
            "_view_count": null,
            "_view_module": "@jupyter-widgets/base",
            "_view_module_version": "1.2.0",
            "_view_name": "StyleView",
            "description_width": ""
          }
        },
        "81942735aa5d4f998de954f9e6267454": {
          "model_module": "@jupyter-widgets/base",
          "model_name": "LayoutModel",
          "model_module_version": "1.2.0",
          "state": {
            "_model_module": "@jupyter-widgets/base",
            "_model_module_version": "1.2.0",
            "_model_name": "LayoutModel",
            "_view_count": null,
            "_view_module": "@jupyter-widgets/base",
            "_view_module_version": "1.2.0",
            "_view_name": "LayoutView",
            "align_content": null,
            "align_items": null,
            "align_self": null,
            "border": null,
            "bottom": null,
            "display": null,
            "flex": null,
            "flex_flow": null,
            "grid_area": null,
            "grid_auto_columns": null,
            "grid_auto_flow": null,
            "grid_auto_rows": null,
            "grid_column": null,
            "grid_gap": null,
            "grid_row": null,
            "grid_template_areas": null,
            "grid_template_columns": null,
            "grid_template_rows": null,
            "height": null,
            "justify_content": null,
            "justify_items": null,
            "left": null,
            "margin": null,
            "max_height": null,
            "max_width": null,
            "min_height": null,
            "min_width": null,
            "object_fit": null,
            "object_position": null,
            "order": null,
            "overflow": null,
            "overflow_x": null,
            "overflow_y": null,
            "padding": null,
            "right": null,
            "top": null,
            "visibility": null,
            "width": null
          }
        },
        "478fe769bfbe4d8bb6b0d77a30a064bc": {
          "model_module": "@jupyter-widgets/controls",
          "model_name": "ProgressStyleModel",
          "model_module_version": "1.5.0",
          "state": {
            "_model_module": "@jupyter-widgets/controls",
            "_model_module_version": "1.5.0",
            "_model_name": "ProgressStyleModel",
            "_view_count": null,
            "_view_module": "@jupyter-widgets/base",
            "_view_module_version": "1.2.0",
            "_view_name": "StyleView",
            "bar_color": null,
            "description_width": ""
          }
        },
        "6895c5de97d24054aaf3787d68eb99cd": {
          "model_module": "@jupyter-widgets/base",
          "model_name": "LayoutModel",
          "model_module_version": "1.2.0",
          "state": {
            "_model_module": "@jupyter-widgets/base",
            "_model_module_version": "1.2.0",
            "_model_name": "LayoutModel",
            "_view_count": null,
            "_view_module": "@jupyter-widgets/base",
            "_view_module_version": "1.2.0",
            "_view_name": "LayoutView",
            "align_content": null,
            "align_items": null,
            "align_self": null,
            "border": null,
            "bottom": null,
            "display": null,
            "flex": null,
            "flex_flow": null,
            "grid_area": null,
            "grid_auto_columns": null,
            "grid_auto_flow": null,
            "grid_auto_rows": null,
            "grid_column": null,
            "grid_gap": null,
            "grid_row": null,
            "grid_template_areas": null,
            "grid_template_columns": null,
            "grid_template_rows": null,
            "height": null,
            "justify_content": null,
            "justify_items": null,
            "left": null,
            "margin": null,
            "max_height": null,
            "max_width": null,
            "min_height": null,
            "min_width": null,
            "object_fit": null,
            "object_position": null,
            "order": null,
            "overflow": null,
            "overflow_x": null,
            "overflow_y": null,
            "padding": null,
            "right": null,
            "top": null,
            "visibility": null,
            "width": null
          }
        },
        "e0d8a17eb2734997a15020aca2f46d30": {
          "model_module": "@jupyter-widgets/controls",
          "model_name": "DescriptionStyleModel",
          "model_module_version": "1.5.0",
          "state": {
            "_model_module": "@jupyter-widgets/controls",
            "_model_module_version": "1.5.0",
            "_model_name": "DescriptionStyleModel",
            "_view_count": null,
            "_view_module": "@jupyter-widgets/base",
            "_view_module_version": "1.2.0",
            "_view_name": "StyleView",
            "description_width": ""
          }
        },
        "30a894b767e94ee29fb9c1fa0da84bb3": {
          "model_module": "@jupyter-widgets/controls",
          "model_name": "HBoxModel",
          "model_module_version": "1.5.0",
          "state": {
            "_dom_classes": [],
            "_model_module": "@jupyter-widgets/controls",
            "_model_module_version": "1.5.0",
            "_model_name": "HBoxModel",
            "_view_count": null,
            "_view_module": "@jupyter-widgets/controls",
            "_view_module_version": "1.5.0",
            "_view_name": "HBoxView",
            "box_style": "",
            "children": [
              "IPY_MODEL_52b2d5b19d674ff4b6adf64bbac80f23",
              "IPY_MODEL_f8f091e821ec44069048e30caee736be",
              "IPY_MODEL_1a4858ab3a6f4e19b11396450c20a9dd"
            ],
            "layout": "IPY_MODEL_6a21da33189a4d0abb216762c8ade86b"
          }
        },
        "52b2d5b19d674ff4b6adf64bbac80f23": {
          "model_module": "@jupyter-widgets/controls",
          "model_name": "HTMLModel",
          "model_module_version": "1.5.0",
          "state": {
            "_dom_classes": [],
            "_model_module": "@jupyter-widgets/controls",
            "_model_module_version": "1.5.0",
            "_model_name": "HTMLModel",
            "_view_count": null,
            "_view_module": "@jupyter-widgets/controls",
            "_view_module_version": "1.5.0",
            "_view_name": "HTMLView",
            "description": "",
            "description_tooltip": null,
            "layout": "IPY_MODEL_e1bb0788e36043b2bf59fea2c281d322",
            "placeholder": "​",
            "style": "IPY_MODEL_638c7a294d0842b4bb2cd21632a043fa",
            "value": "Downloading: 100%"
          }
        },
        "f8f091e821ec44069048e30caee736be": {
          "model_module": "@jupyter-widgets/controls",
          "model_name": "FloatProgressModel",
          "model_module_version": "1.5.0",
          "state": {
            "_dom_classes": [],
            "_model_module": "@jupyter-widgets/controls",
            "_model_module_version": "1.5.0",
            "_model_name": "FloatProgressModel",
            "_view_count": null,
            "_view_module": "@jupyter-widgets/controls",
            "_view_module_version": "1.5.0",
            "_view_name": "ProgressView",
            "bar_style": "success",
            "description": "",
            "description_tooltip": null,
            "layout": "IPY_MODEL_e13734385b0943e9aba3bb3ce9a9ba21",
            "max": 28,
            "min": 0,
            "orientation": "horizontal",
            "style": "IPY_MODEL_15bc660e663d4b3eab69622eaac5fa39",
            "value": 28
          }
        },
        "1a4858ab3a6f4e19b11396450c20a9dd": {
          "model_module": "@jupyter-widgets/controls",
          "model_name": "HTMLModel",
          "model_module_version": "1.5.0",
          "state": {
            "_dom_classes": [],
            "_model_module": "@jupyter-widgets/controls",
            "_model_module_version": "1.5.0",
            "_model_name": "HTMLModel",
            "_view_count": null,
            "_view_module": "@jupyter-widgets/controls",
            "_view_module_version": "1.5.0",
            "_view_name": "HTMLView",
            "description": "",
            "description_tooltip": null,
            "layout": "IPY_MODEL_a700a4a68f684ff692a965e1c1d52d5b",
            "placeholder": "​",
            "style": "IPY_MODEL_b7da70bb194448efaeea5f0a3a87304d",
            "value": " 28.0/28.0 [00:00&lt;00:00, 812B/s]"
          }
        },
        "6a21da33189a4d0abb216762c8ade86b": {
          "model_module": "@jupyter-widgets/base",
          "model_name": "LayoutModel",
          "model_module_version": "1.2.0",
          "state": {
            "_model_module": "@jupyter-widgets/base",
            "_model_module_version": "1.2.0",
            "_model_name": "LayoutModel",
            "_view_count": null,
            "_view_module": "@jupyter-widgets/base",
            "_view_module_version": "1.2.0",
            "_view_name": "LayoutView",
            "align_content": null,
            "align_items": null,
            "align_self": null,
            "border": null,
            "bottom": null,
            "display": null,
            "flex": null,
            "flex_flow": null,
            "grid_area": null,
            "grid_auto_columns": null,
            "grid_auto_flow": null,
            "grid_auto_rows": null,
            "grid_column": null,
            "grid_gap": null,
            "grid_row": null,
            "grid_template_areas": null,
            "grid_template_columns": null,
            "grid_template_rows": null,
            "height": null,
            "justify_content": null,
            "justify_items": null,
            "left": null,
            "margin": null,
            "max_height": null,
            "max_width": null,
            "min_height": null,
            "min_width": null,
            "object_fit": null,
            "object_position": null,
            "order": null,
            "overflow": null,
            "overflow_x": null,
            "overflow_y": null,
            "padding": null,
            "right": null,
            "top": null,
            "visibility": null,
            "width": null
          }
        },
        "e1bb0788e36043b2bf59fea2c281d322": {
          "model_module": "@jupyter-widgets/base",
          "model_name": "LayoutModel",
          "model_module_version": "1.2.0",
          "state": {
            "_model_module": "@jupyter-widgets/base",
            "_model_module_version": "1.2.0",
            "_model_name": "LayoutModel",
            "_view_count": null,
            "_view_module": "@jupyter-widgets/base",
            "_view_module_version": "1.2.0",
            "_view_name": "LayoutView",
            "align_content": null,
            "align_items": null,
            "align_self": null,
            "border": null,
            "bottom": null,
            "display": null,
            "flex": null,
            "flex_flow": null,
            "grid_area": null,
            "grid_auto_columns": null,
            "grid_auto_flow": null,
            "grid_auto_rows": null,
            "grid_column": null,
            "grid_gap": null,
            "grid_row": null,
            "grid_template_areas": null,
            "grid_template_columns": null,
            "grid_template_rows": null,
            "height": null,
            "justify_content": null,
            "justify_items": null,
            "left": null,
            "margin": null,
            "max_height": null,
            "max_width": null,
            "min_height": null,
            "min_width": null,
            "object_fit": null,
            "object_position": null,
            "order": null,
            "overflow": null,
            "overflow_x": null,
            "overflow_y": null,
            "padding": null,
            "right": null,
            "top": null,
            "visibility": null,
            "width": null
          }
        },
        "638c7a294d0842b4bb2cd21632a043fa": {
          "model_module": "@jupyter-widgets/controls",
          "model_name": "DescriptionStyleModel",
          "model_module_version": "1.5.0",
          "state": {
            "_model_module": "@jupyter-widgets/controls",
            "_model_module_version": "1.5.0",
            "_model_name": "DescriptionStyleModel",
            "_view_count": null,
            "_view_module": "@jupyter-widgets/base",
            "_view_module_version": "1.2.0",
            "_view_name": "StyleView",
            "description_width": ""
          }
        },
        "e13734385b0943e9aba3bb3ce9a9ba21": {
          "model_module": "@jupyter-widgets/base",
          "model_name": "LayoutModel",
          "model_module_version": "1.2.0",
          "state": {
            "_model_module": "@jupyter-widgets/base",
            "_model_module_version": "1.2.0",
            "_model_name": "LayoutModel",
            "_view_count": null,
            "_view_module": "@jupyter-widgets/base",
            "_view_module_version": "1.2.0",
            "_view_name": "LayoutView",
            "align_content": null,
            "align_items": null,
            "align_self": null,
            "border": null,
            "bottom": null,
            "display": null,
            "flex": null,
            "flex_flow": null,
            "grid_area": null,
            "grid_auto_columns": null,
            "grid_auto_flow": null,
            "grid_auto_rows": null,
            "grid_column": null,
            "grid_gap": null,
            "grid_row": null,
            "grid_template_areas": null,
            "grid_template_columns": null,
            "grid_template_rows": null,
            "height": null,
            "justify_content": null,
            "justify_items": null,
            "left": null,
            "margin": null,
            "max_height": null,
            "max_width": null,
            "min_height": null,
            "min_width": null,
            "object_fit": null,
            "object_position": null,
            "order": null,
            "overflow": null,
            "overflow_x": null,
            "overflow_y": null,
            "padding": null,
            "right": null,
            "top": null,
            "visibility": null,
            "width": null
          }
        },
        "15bc660e663d4b3eab69622eaac5fa39": {
          "model_module": "@jupyter-widgets/controls",
          "model_name": "ProgressStyleModel",
          "model_module_version": "1.5.0",
          "state": {
            "_model_module": "@jupyter-widgets/controls",
            "_model_module_version": "1.5.0",
            "_model_name": "ProgressStyleModel",
            "_view_count": null,
            "_view_module": "@jupyter-widgets/base",
            "_view_module_version": "1.2.0",
            "_view_name": "StyleView",
            "bar_color": null,
            "description_width": ""
          }
        },
        "a700a4a68f684ff692a965e1c1d52d5b": {
          "model_module": "@jupyter-widgets/base",
          "model_name": "LayoutModel",
          "model_module_version": "1.2.0",
          "state": {
            "_model_module": "@jupyter-widgets/base",
            "_model_module_version": "1.2.0",
            "_model_name": "LayoutModel",
            "_view_count": null,
            "_view_module": "@jupyter-widgets/base",
            "_view_module_version": "1.2.0",
            "_view_name": "LayoutView",
            "align_content": null,
            "align_items": null,
            "align_self": null,
            "border": null,
            "bottom": null,
            "display": null,
            "flex": null,
            "flex_flow": null,
            "grid_area": null,
            "grid_auto_columns": null,
            "grid_auto_flow": null,
            "grid_auto_rows": null,
            "grid_column": null,
            "grid_gap": null,
            "grid_row": null,
            "grid_template_areas": null,
            "grid_template_columns": null,
            "grid_template_rows": null,
            "height": null,
            "justify_content": null,
            "justify_items": null,
            "left": null,
            "margin": null,
            "max_height": null,
            "max_width": null,
            "min_height": null,
            "min_width": null,
            "object_fit": null,
            "object_position": null,
            "order": null,
            "overflow": null,
            "overflow_x": null,
            "overflow_y": null,
            "padding": null,
            "right": null,
            "top": null,
            "visibility": null,
            "width": null
          }
        },
        "b7da70bb194448efaeea5f0a3a87304d": {
          "model_module": "@jupyter-widgets/controls",
          "model_name": "DescriptionStyleModel",
          "model_module_version": "1.5.0",
          "state": {
            "_model_module": "@jupyter-widgets/controls",
            "_model_module_version": "1.5.0",
            "_model_name": "DescriptionStyleModel",
            "_view_count": null,
            "_view_module": "@jupyter-widgets/base",
            "_view_module_version": "1.2.0",
            "_view_name": "StyleView",
            "description_width": ""
          }
        }
      }
    },
    "colab": {
      "provenance": [],
      "include_colab_link": true
    },
    "accelerator": "GPU",
    "gpuClass": "standard"
  },
  "nbformat": 4,
  "nbformat_minor": 0
}